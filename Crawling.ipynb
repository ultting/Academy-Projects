{
 "cells": [
  {
   "cell_type": "code",
   "execution_count": 1,
   "id": "91565a7e",
   "metadata": {},
   "outputs": [],
   "source": [
    "import requests as req\n",
    "import pandas as pd\n",
    "import time\n",
    "from bs4 import BeautifulSoup as bs\n",
    "from selenium import webdriver as wb\n",
    "from selenium.webdriver.common.keys import Keys\n",
    "from selenium.webdriver.common.by import By\n",
    "from selenium.webdriver.support.ui import WebDriverWait\n",
    "from selenium.webdriver.support import expected_conditions as EC\n",
    "from selenium.common.exceptions import NoSuchElementException,StaleElementReferenceException\n",
    "from tqdm import tqdm_notebook as tq\n",
    "import urllib.request\n",
    "import json\n",
    "import csv\n",
    "import os # 파일시스템을 제어하는 라이브러리 ex)파일, 폴더를 생성, 삭제하는 라이브러리\n",
    "from urllib.request import urlretrieve # 이미지의 경로를 파일로 저장시켜주는 라이브러리"
   ]
  },
  {
   "cell_type": "code",
   "execution_count": 103,
   "id": "707292a3",
   "metadata": {},
   "outputs": [
    {
     "name": "stderr",
     "output_type": "stream",
     "text": [
      "<ipython-input-103-d02e94e132a0>:2: DeprecationWarning: executable_path has been deprecated, please pass in a Service object\n",
      "  driver = wb.Chrome('chromedriver3.exe')\n"
     ]
    }
   ],
   "source": [
    "\n",
    "# 사이트 열기\n",
    "driver = wb.Chrome('chromedriver3.exe')\n",
    "driver.get('https://sldict.korean.go.kr/front/main/main.do')"
   ]
  },
  {
   "cell_type": "code",
   "execution_count": 104,
   "id": "37f11afa",
   "metadata": {
    "collapsed": true
   },
   "outputs": [
    {
     "name": "stderr",
     "output_type": "stream",
     "text": [
      "<ipython-input-104-d9a48e1162f0>:4: DeprecationWarning: find_element_by_* commands are deprecated. Please use find_element() instead\n",
      "  click2 = driver.find_element_by_css_selector('#menu > div > div > ul > li:nth-child(2)')\n",
      "<ipython-input-104-d9a48e1162f0>:8: DeprecationWarning: find_element_by_* commands are deprecated. Please use find_element() instead\n",
      "  edu2 = driver.find_element_by_css_selector('#menu > div > div > ul > li.on > ul > li:nth-child(4) > a')\n",
      "<ipython-input-104-d9a48e1162f0>:11: TqdmDeprecationWarning: This function will be removed in tqdm==5.0.0\n",
      "Please use `tqdm.notebook.tqdm` instead of `tqdm.tqdm_notebook`\n",
      "  for k in tq(range(60)):\n"
     ]
    },
    {
     "data": {
      "application/vnd.jupyter.widget-view+json": {
       "model_id": "9bdacc2b2d7d47939eb8cdcbd160cffc",
       "version_major": 2,
       "version_minor": 0
      },
      "text/plain": [
       "  0%|          | 0/60 [00:00<?, ?it/s]"
      ]
     },
     "metadata": {},
     "output_type": "display_data"
    },
    {
     "name": "stderr",
     "output_type": "stream",
     "text": [
      "<ipython-input-104-d9a48e1162f0>:12: TqdmDeprecationWarning: This function will be removed in tqdm==5.0.0\n",
      "Please use `tqdm.notebook.tqdm` instead of `tqdm.tqdm_notebook`\n",
      "  for i in tq(range(10)):\n"
     ]
    },
    {
     "data": {
      "application/vnd.jupyter.widget-view+json": {
       "model_id": "cb28302a666c401c9ba934f7b42168ad",
       "version_major": 2,
       "version_minor": 0
      },
      "text/plain": [
       "  0%|          | 0/10 [00:00<?, ?it/s]"
      ]
     },
     "metadata": {},
     "output_type": "display_data"
    },
    {
     "name": "stderr",
     "output_type": "stream",
     "text": [
      "<ipython-input-104-d9a48e1162f0>:13: TqdmDeprecationWarning: This function will be removed in tqdm==5.0.0\n",
      "Please use `tqdm.notebook.tqdm` instead of `tqdm.tqdm_notebook`\n",
      "  for j in tq(range(10)):\n"
     ]
    },
    {
     "data": {
      "application/vnd.jupyter.widget-view+json": {
       "model_id": "3be7fceb57d94753bec7b21c849a96ba",
       "version_major": 2,
       "version_minor": 0
      },
      "text/plain": [
       "  0%|          | 0/10 [00:00<?, ?it/s]"
      ]
     },
     "metadata": {},
     "output_type": "display_data"
    },
    {
     "name": "stderr",
     "output_type": "stream",
     "text": [
      "<ipython-input-104-d9a48e1162f0>:16: DeprecationWarning: find_element_by_* commands are deprecated. Please use find_element() instead\n",
      "  img = driver.find_element_by_css_selector(f'li:nth-child({j+1}) > div.list_left > div > a')\n",
      "<ipython-input-104-d9a48e1162f0>:19: DeprecationWarning: find_element_by_* commands are deprecated. Please use find_element() instead\n",
      "  text = driver.find_element_by_css_selector('#signViewForm > dl > dd:nth-child(2)').text\n",
      "<ipython-input-104-d9a48e1162f0>:22: DeprecationWarning: find_element_by_* commands are deprecated. Please use find_element() instead\n",
      "  se = driver.find_element_by_xpath('//*[@id=\"html5Video\"]/source[2]')\n"
     ]
    },
    {
     "name": "stdout",
     "output_type": "stream",
     "text": [
      "0 0 0\n",
      "0 0 1\n",
      "0 0 2\n",
      "0 0 3\n",
      "0 0 4\n",
      "0 0 5\n",
      "0 0 6\n",
      "0 0 7\n",
      "0 0 8\n",
      "0 0 9\n"
     ]
    },
    {
     "name": "stderr",
     "output_type": "stream",
     "text": [
      "<ipython-input-104-d9a48e1162f0>:30: DeprecationWarning: find_element_by_* commands are deprecated. Please use find_element() instead\n",
      "  List = driver.find_element_by_css_selector(f'#signListForm > div.result_list.mt_30 > div.paging2.clear2 > span:nth-child({i+4}) > a')\n"
     ]
    },
    {
     "data": {
      "application/vnd.jupyter.widget-view+json": {
       "model_id": "80f181f382eb4a60b0301ba8be4c0454",
       "version_major": 2,
       "version_minor": 0
      },
      "text/plain": [
       "  0%|          | 0/10 [00:00<?, ?it/s]"
      ]
     },
     "metadata": {},
     "output_type": "display_data"
    },
    {
     "name": "stdout",
     "output_type": "stream",
     "text": [
      "0 1 0\n",
      "0 1 1\n",
      "0 1 2\n",
      "0 1 3\n",
      "0 1 4\n",
      "0 1 5\n",
      "0 1 6\n",
      "0 1 7\n",
      "0 1 8\n",
      "0 1 9\n"
     ]
    },
    {
     "data": {
      "application/vnd.jupyter.widget-view+json": {
       "model_id": "cc5b67bc4c7a439c92b916be40b4da48",
       "version_major": 2,
       "version_minor": 0
      },
      "text/plain": [
       "  0%|          | 0/10 [00:00<?, ?it/s]"
      ]
     },
     "metadata": {},
     "output_type": "display_data"
    },
    {
     "name": "stdout",
     "output_type": "stream",
     "text": [
      "0 2 0\n",
      "0 2 1\n",
      "0 2 2\n",
      "0 2 3\n",
      "0 2 4\n",
      "0 2 5\n",
      "0 2 6\n",
      "0 2 7\n",
      "0 2 8\n",
      "0 2 9\n"
     ]
    },
    {
     "data": {
      "application/vnd.jupyter.widget-view+json": {
       "model_id": "19479f710c8f44e5a3544067eccc01a5",
       "version_major": 2,
       "version_minor": 0
      },
      "text/plain": [
       "  0%|          | 0/10 [00:00<?, ?it/s]"
      ]
     },
     "metadata": {},
     "output_type": "display_data"
    },
    {
     "name": "stdout",
     "output_type": "stream",
     "text": [
      "0 3 0\n",
      "0 3 1\n",
      "0 3 2\n",
      "0 3 3\n",
      "0 3 4\n",
      "0 3 5\n",
      "0 3 6\n",
      "0 3 7\n",
      "0 3 8\n",
      "0 3 9\n"
     ]
    },
    {
     "data": {
      "application/vnd.jupyter.widget-view+json": {
       "model_id": "2c6a0c86b1c1469a9a1f204fe432addb",
       "version_major": 2,
       "version_minor": 0
      },
      "text/plain": [
       "  0%|          | 0/10 [00:00<?, ?it/s]"
      ]
     },
     "metadata": {},
     "output_type": "display_data"
    },
    {
     "name": "stdout",
     "output_type": "stream",
     "text": [
      "0 4 0\n",
      "0 4 1\n",
      "0 4 2\n",
      "0 4 3\n",
      "0 4 4\n",
      "0 4 5\n",
      "0 4 6\n",
      "0 4 7\n",
      "0 4 8\n",
      "0 4 9\n"
     ]
    },
    {
     "data": {
      "application/vnd.jupyter.widget-view+json": {
       "model_id": "39d784d446884dbda1fc4f567d37030d",
       "version_major": 2,
       "version_minor": 0
      },
      "text/plain": [
       "  0%|          | 0/10 [00:00<?, ?it/s]"
      ]
     },
     "metadata": {},
     "output_type": "display_data"
    },
    {
     "name": "stdout",
     "output_type": "stream",
     "text": [
      "0 5 0\n",
      "0 5 1\n",
      "0 5 2\n",
      "0 5 3\n",
      "0 5 4\n",
      "0 5 5\n",
      "0 5 6\n",
      "0 5 7\n",
      "0 5 8\n",
      "0 5 9\n"
     ]
    },
    {
     "data": {
      "application/vnd.jupyter.widget-view+json": {
       "model_id": "4823e3be8d9440d0ab3954d3913025a3",
       "version_major": 2,
       "version_minor": 0
      },
      "text/plain": [
       "  0%|          | 0/10 [00:00<?, ?it/s]"
      ]
     },
     "metadata": {},
     "output_type": "display_data"
    },
    {
     "name": "stdout",
     "output_type": "stream",
     "text": [
      "0 6 0\n",
      "0 6 1\n",
      "0 6 2\n",
      "0 6 3\n",
      "0 6 4\n",
      "0 6 5\n",
      "0 6 6\n",
      "0 6 7\n",
      "0 6 8\n",
      "0 6 9\n"
     ]
    },
    {
     "data": {
      "application/vnd.jupyter.widget-view+json": {
       "model_id": "8495a9c598644d81909c73acfdf9d143",
       "version_major": 2,
       "version_minor": 0
      },
      "text/plain": [
       "  0%|          | 0/10 [00:00<?, ?it/s]"
      ]
     },
     "metadata": {},
     "output_type": "display_data"
    },
    {
     "name": "stdout",
     "output_type": "stream",
     "text": [
      "0 7 0\n",
      "0 7 1\n",
      "0 7 2\n",
      "0 7 3\n",
      "0 7 4\n",
      "0 7 5\n",
      "0 7 6\n",
      "0 7 7\n",
      "0 7 8\n",
      "0 7 9\n"
     ]
    },
    {
     "data": {
      "application/vnd.jupyter.widget-view+json": {
       "model_id": "8e4a1d97de5f4b79b1891179844f7e94",
       "version_major": 2,
       "version_minor": 0
      },
      "text/plain": [
       "  0%|          | 0/10 [00:00<?, ?it/s]"
      ]
     },
     "metadata": {},
     "output_type": "display_data"
    },
    {
     "name": "stdout",
     "output_type": "stream",
     "text": [
      "0 8 0\n",
      "0 8 1\n",
      "0 8 2\n",
      "0 8 3\n",
      "0 8 4\n",
      "0 8 5\n",
      "0 8 6\n",
      "0 8 7\n",
      "0 8 8\n",
      "0 8 9\n"
     ]
    },
    {
     "data": {
      "application/vnd.jupyter.widget-view+json": {
       "model_id": "8c68f4541eb14bef9b2d81cc457f2d19",
       "version_major": 2,
       "version_minor": 0
      },
      "text/plain": [
       "  0%|          | 0/10 [00:00<?, ?it/s]"
      ]
     },
     "metadata": {},
     "output_type": "display_data"
    },
    {
     "name": "stdout",
     "output_type": "stream",
     "text": [
      "0 9 0\n",
      "0 9 1\n",
      "0 9 2\n",
      "0 9 3\n",
      "0 9 4\n",
      "0 9 5\n",
      "0 9 6\n",
      "0 9 7\n",
      "0 9 8\n",
      "0 9 9\n"
     ]
    },
    {
     "name": "stderr",
     "output_type": "stream",
     "text": [
      "<ipython-input-104-d9a48e1162f0>:33: DeprecationWarning: find_element_by_* commands are deprecated. Please use find_element() instead\n",
      "  nextList = driver.find_element_by_css_selector('#signListForm > div.result_list.mt_30 > div.paging2.clear2 > span.normal.btn_page.next > a')\n"
     ]
    },
    {
     "data": {
      "application/vnd.jupyter.widget-view+json": {
       "model_id": "d12a59d6423549e6acabb538ebdbc69f",
       "version_major": 2,
       "version_minor": 0
      },
      "text/plain": [
       "  0%|          | 0/10 [00:00<?, ?it/s]"
      ]
     },
     "metadata": {},
     "output_type": "display_data"
    },
    {
     "data": {
      "application/vnd.jupyter.widget-view+json": {
       "model_id": "8012504d3f6443928b2af39b9ebe450f",
       "version_major": 2,
       "version_minor": 0
      },
      "text/plain": [
       "  0%|          | 0/10 [00:00<?, ?it/s]"
      ]
     },
     "metadata": {},
     "output_type": "display_data"
    },
    {
     "name": "stdout",
     "output_type": "stream",
     "text": [
      "1 0 0\n",
      "1 0 1\n",
      "1 0 2\n",
      "1 0 3\n",
      "1 0 4\n",
      "1 0 5\n",
      "1 0 6\n",
      "1 0 7\n",
      "1 0 8\n",
      "1 0 9\n"
     ]
    },
    {
     "data": {
      "application/vnd.jupyter.widget-view+json": {
       "model_id": "b511b8eaa98d492eadbd2279cd4c6a28",
       "version_major": 2,
       "version_minor": 0
      },
      "text/plain": [
       "  0%|          | 0/10 [00:00<?, ?it/s]"
      ]
     },
     "metadata": {},
     "output_type": "display_data"
    },
    {
     "name": "stdout",
     "output_type": "stream",
     "text": [
      "1 1 0\n",
      "1 1 1\n",
      "1 1 2\n",
      "1 1 3\n",
      "1 1 4\n",
      "1 1 5\n",
      "1 1 6\n",
      "1 1 7\n",
      "1 1 8\n",
      "1 1 9\n"
     ]
    },
    {
     "data": {
      "application/vnd.jupyter.widget-view+json": {
       "model_id": "fdafc0a354d14f37b97c92fbef634879",
       "version_major": 2,
       "version_minor": 0
      },
      "text/plain": [
       "  0%|          | 0/10 [00:00<?, ?it/s]"
      ]
     },
     "metadata": {},
     "output_type": "display_data"
    },
    {
     "name": "stdout",
     "output_type": "stream",
     "text": [
      "1 2 0\n",
      "1 2 1\n",
      "1 2 2\n",
      "1 2 3\n",
      "1 2 4\n",
      "1 2 5\n",
      "1 2 6\n",
      "1 2 7\n",
      "1 2 8\n",
      "1 2 9\n"
     ]
    },
    {
     "data": {
      "application/vnd.jupyter.widget-view+json": {
       "model_id": "0d15145ae4e3480e94e2ef2086c1ec77",
       "version_major": 2,
       "version_minor": 0
      },
      "text/plain": [
       "  0%|          | 0/10 [00:00<?, ?it/s]"
      ]
     },
     "metadata": {},
     "output_type": "display_data"
    },
    {
     "name": "stdout",
     "output_type": "stream",
     "text": [
      "1 3 0\n",
      "1 3 1\n",
      "1 3 2\n",
      "1 3 3\n",
      "1 3 4\n",
      "1 3 5\n",
      "1 3 6\n",
      "1 3 7\n",
      "1 3 8\n",
      "1 3 9\n"
     ]
    },
    {
     "data": {
      "application/vnd.jupyter.widget-view+json": {
       "model_id": "09dbc19e41cb4dc3955fca228c744d45",
       "version_major": 2,
       "version_minor": 0
      },
      "text/plain": [
       "  0%|          | 0/10 [00:00<?, ?it/s]"
      ]
     },
     "metadata": {},
     "output_type": "display_data"
    },
    {
     "name": "stdout",
     "output_type": "stream",
     "text": [
      "1 4 0\n",
      "1 4 1\n",
      "1 4 2\n",
      "1 4 3\n",
      "1 4 4\n",
      "1 4 5\n",
      "1 4 6\n",
      "1 4 7\n",
      "1 4 8\n",
      "1 4 9\n"
     ]
    },
    {
     "data": {
      "application/vnd.jupyter.widget-view+json": {
       "model_id": "33fa6863d7dc4b01b738c2ae9b2a7408",
       "version_major": 2,
       "version_minor": 0
      },
      "text/plain": [
       "  0%|          | 0/10 [00:00<?, ?it/s]"
      ]
     },
     "metadata": {},
     "output_type": "display_data"
    },
    {
     "name": "stdout",
     "output_type": "stream",
     "text": [
      "1 5 0\n",
      "1 5 1\n",
      "1 5 2\n",
      "1 5 3\n",
      "1 5 4\n",
      "1 5 5\n",
      "1 5 6\n",
      "1 5 7\n",
      "1 5 8\n",
      "1 5 9\n"
     ]
    },
    {
     "data": {
      "application/vnd.jupyter.widget-view+json": {
       "model_id": "66a3d9d8505b43edadf1afc0be31b7ef",
       "version_major": 2,
       "version_minor": 0
      },
      "text/plain": [
       "  0%|          | 0/10 [00:00<?, ?it/s]"
      ]
     },
     "metadata": {},
     "output_type": "display_data"
    },
    {
     "name": "stdout",
     "output_type": "stream",
     "text": [
      "1 6 0\n",
      "1 6 1\n",
      "1 6 2\n",
      "1 6 3\n",
      "1 6 4\n",
      "1 6 5\n",
      "1 6 6\n",
      "1 6 7\n",
      "1 6 8\n",
      "1 6 9\n"
     ]
    },
    {
     "data": {
      "application/vnd.jupyter.widget-view+json": {
       "model_id": "6658e9ef17894e86864fb27e433abcfa",
       "version_major": 2,
       "version_minor": 0
      },
      "text/plain": [
       "  0%|          | 0/10 [00:00<?, ?it/s]"
      ]
     },
     "metadata": {},
     "output_type": "display_data"
    },
    {
     "name": "stdout",
     "output_type": "stream",
     "text": [
      "1 7 0\n",
      "1 7 1\n",
      "1 7 2\n",
      "1 7 3\n",
      "1 7 4\n",
      "1 7 5\n",
      "1 7 6\n",
      "1 7 7\n",
      "1 7 8\n",
      "1 7 9\n"
     ]
    },
    {
     "data": {
      "application/vnd.jupyter.widget-view+json": {
       "model_id": "2340a9e01b6846c1bf6e24ec044c568c",
       "version_major": 2,
       "version_minor": 0
      },
      "text/plain": [
       "  0%|          | 0/10 [00:00<?, ?it/s]"
      ]
     },
     "metadata": {},
     "output_type": "display_data"
    },
    {
     "name": "stdout",
     "output_type": "stream",
     "text": [
      "1 8 0\n",
      "1 8 1\n",
      "1 8 2\n",
      "1 8 3\n",
      "1 8 4\n",
      "1 8 5\n",
      "1 8 6\n",
      "1 8 7\n",
      "1 8 8\n",
      "1 8 9\n"
     ]
    },
    {
     "data": {
      "application/vnd.jupyter.widget-view+json": {
       "model_id": "9d239b89ef33472a976acabe18d732f0",
       "version_major": 2,
       "version_minor": 0
      },
      "text/plain": [
       "  0%|          | 0/10 [00:00<?, ?it/s]"
      ]
     },
     "metadata": {},
     "output_type": "display_data"
    },
    {
     "name": "stdout",
     "output_type": "stream",
     "text": [
      "1 9 0\n",
      "1 9 1\n",
      "1 9 2\n",
      "1 9 3\n",
      "1 9 4\n",
      "1 9 5\n",
      "1 9 6\n",
      "1 9 7\n",
      "1 9 8\n",
      "1 9 9\n"
     ]
    },
    {
     "data": {
      "application/vnd.jupyter.widget-view+json": {
       "model_id": "d1b949015f524cbf9247fb5857f493bf",
       "version_major": 2,
       "version_minor": 0
      },
      "text/plain": [
       "  0%|          | 0/10 [00:00<?, ?it/s]"
      ]
     },
     "metadata": {},
     "output_type": "display_data"
    },
    {
     "data": {
      "application/vnd.jupyter.widget-view+json": {
       "model_id": "27bc73c20ae344cba2730b031036be00",
       "version_major": 2,
       "version_minor": 0
      },
      "text/plain": [
       "  0%|          | 0/10 [00:00<?, ?it/s]"
      ]
     },
     "metadata": {},
     "output_type": "display_data"
    },
    {
     "name": "stdout",
     "output_type": "stream",
     "text": [
      "2 0 0\n"
     ]
    }
   ],
   "source": [
    "# 한국수어사전 - 전문용어 수어 - 정보통신\n",
    "# 수어사전 사이트가 서버상태가 너무 안좋음\n",
    "# 대분류 클릭\n",
    "time.sleep(3)\n",
    "click2 = driver.find_element_by_css_selector('#menu > div > div > ul > li:nth-child(2)')\n",
    "click2.click()\n",
    "#소분류 클릭\n",
    "time.sleep(5)\n",
    "edu2 = driver.find_element_by_css_selector('#menu > div > div > ul > li.on > ul > li:nth-child(4) > a')\n",
    "edu2.click()\n",
    "try:\n",
    "    for k in tq(range(60)):\n",
    "        for i in tq(range(10)):\n",
    "            for j in tq(range(10)):\n",
    "                # 이미지 클릭\n",
    "                time.sleep(5)\n",
    "                img = driver.find_element_by_css_selector(f'li:nth-child({j+1}) > div.list_left > div > a')\n",
    "                img.click()\n",
    "                 # 단어 설명\n",
    "                text = driver.find_element_by_css_selector('#signViewForm > dl > dd:nth-child(2)').text\n",
    "                text = text.replace('/',',')\n",
    "                 # 영상 다운로드\n",
    "                se = driver.find_element_by_xpath('//*[@id=\"html5Video\"]/source[2]')\n",
    "                url = se.get_attribute('src')\n",
    "                urllib.request.urlretrieve(url,f'C:/Users/smhrd/Desktop/Video/IT/{text}.mp4')\n",
    "                time.sleep(5)\n",
    "                print(k,i,j)\n",
    "                driver.back()\n",
    "            # 하단 목록번호\n",
    "            time.sleep(5)\n",
    "            List = driver.find_element_by_css_selector(f'#signListForm > div.result_list.mt_30 > div.paging2.clear2 > span:nth-child({i+4}) > a')\n",
    "            List.click()\n",
    "        time.sleep(3)\n",
    "        nextList = driver.find_element_by_css_selector('#signListForm > div.result_list.mt_30 > div.paging2.clear2 > span.normal.btn_page.next > a')\n",
    "        nextList.click()                            \n",
    "except:\n",
    "    pass"
   ]
  },
  {
   "cell_type": "code",
   "execution_count": 120,
   "id": "618904e9",
   "metadata": {},
   "outputs": [
    {
     "name": "stderr",
     "output_type": "stream",
     "text": [
      "<ipython-input-120-5f2e314e2787>:1: TqdmDeprecationWarning: This function will be removed in tqdm==5.0.0\n",
      "Please use `tqdm.notebook.tqdm` instead of `tqdm.tqdm_notebook`\n",
      "  for i in tq(range(10)):\n"
     ]
    },
    {
     "data": {
      "application/vnd.jupyter.widget-view+json": {
       "model_id": "50eb0c939e9a4f32b9e53418df94d775",
       "version_major": 2,
       "version_minor": 0
      },
      "text/plain": [
       "  0%|          | 0/10 [00:00<?, ?it/s]"
      ]
     },
     "metadata": {},
     "output_type": "display_data"
    },
    {
     "name": "stderr",
     "output_type": "stream",
     "text": [
      "<ipython-input-120-5f2e314e2787>:2: TqdmDeprecationWarning: This function will be removed in tqdm==5.0.0\n",
      "Please use `tqdm.notebook.tqdm` instead of `tqdm.tqdm_notebook`\n",
      "  for j in tq(range(10)):\n"
     ]
    },
    {
     "data": {
      "application/vnd.jupyter.widget-view+json": {
       "model_id": "b6936a8219a64ede810874c42904fc24",
       "version_major": 2,
       "version_minor": 0
      },
      "text/plain": [
       "  0%|          | 0/10 [00:00<?, ?it/s]"
      ]
     },
     "metadata": {},
     "output_type": "display_data"
    },
    {
     "name": "stderr",
     "output_type": "stream",
     "text": [
      "<ipython-input-120-5f2e314e2787>:5: DeprecationWarning: find_element_by_* commands are deprecated. Please use find_element() instead\n",
      "  img = driver.find_element_by_css_selector(f'li:nth-child({j+1}) > div.list_left > div > a')\n",
      "<ipython-input-120-5f2e314e2787>:8: DeprecationWarning: find_element_by_* commands are deprecated. Please use find_element() instead\n",
      "  text = driver.find_element_by_css_selector('#signViewForm > dl > dd:nth-child(2)').text\n",
      "<ipython-input-120-5f2e314e2787>:11: DeprecationWarning: find_element_by_* commands are deprecated. Please use find_element() instead\n",
      "  se = driver.find_element_by_xpath('//*[@id=\"html5Video\"]/source[2]')\n",
      "<ipython-input-120-5f2e314e2787>:17: DeprecationWarning: find_element_by_* commands are deprecated. Please use find_element() instead\n",
      "  List = driver.find_element_by_css_selector(f'#signListForm > div.result_list.mt_30 > div.paging2.clear2 > span:nth-child({i+4}) > a')\n"
     ]
    },
    {
     "data": {
      "application/vnd.jupyter.widget-view+json": {
       "model_id": "32993f84944644a887abbd8dbab7adbf",
       "version_major": 2,
       "version_minor": 0
      },
      "text/plain": [
       "  0%|          | 0/10 [00:00<?, ?it/s]"
      ]
     },
     "metadata": {},
     "output_type": "display_data"
    },
    {
     "data": {
      "application/vnd.jupyter.widget-view+json": {
       "model_id": "ac15182b394740a0bfa0f965f9f1918f",
       "version_major": 2,
       "version_minor": 0
      },
      "text/plain": [
       "  0%|          | 0/10 [00:00<?, ?it/s]"
      ]
     },
     "metadata": {},
     "output_type": "display_data"
    },
    {
     "data": {
      "application/vnd.jupyter.widget-view+json": {
       "model_id": "db79566b5a414bab8d6d10142753f691",
       "version_major": 2,
       "version_minor": 0
      },
      "text/plain": [
       "  0%|          | 0/10 [00:00<?, ?it/s]"
      ]
     },
     "metadata": {},
     "output_type": "display_data"
    },
    {
     "data": {
      "application/vnd.jupyter.widget-view+json": {
       "model_id": "db5c7b80701e4aceac06f3a937b6bdd3",
       "version_major": 2,
       "version_minor": 0
      },
      "text/plain": [
       "  0%|          | 0/10 [00:00<?, ?it/s]"
      ]
     },
     "metadata": {},
     "output_type": "display_data"
    },
    {
     "data": {
      "application/vnd.jupyter.widget-view+json": {
       "model_id": "abde58d7eb944bf6b25e1391722eaff4",
       "version_major": 2,
       "version_minor": 0
      },
      "text/plain": [
       "  0%|          | 0/10 [00:00<?, ?it/s]"
      ]
     },
     "metadata": {},
     "output_type": "display_data"
    },
    {
     "data": {
      "application/vnd.jupyter.widget-view+json": {
       "model_id": "633e3fda1c03438eb5effe6384beb30f",
       "version_major": 2,
       "version_minor": 0
      },
      "text/plain": [
       "  0%|          | 0/10 [00:00<?, ?it/s]"
      ]
     },
     "metadata": {},
     "output_type": "display_data"
    },
    {
     "data": {
      "application/vnd.jupyter.widget-view+json": {
       "model_id": "1d19204605404bc5a4fb5a51b0601514",
       "version_major": 2,
       "version_minor": 0
      },
      "text/plain": [
       "  0%|          | 0/10 [00:00<?, ?it/s]"
      ]
     },
     "metadata": {},
     "output_type": "display_data"
    },
    {
     "data": {
      "application/vnd.jupyter.widget-view+json": {
       "model_id": "825a142ec11741f7b70cfbd260f8e7b2",
       "version_major": 2,
       "version_minor": 0
      },
      "text/plain": [
       "  0%|          | 0/10 [00:00<?, ?it/s]"
      ]
     },
     "metadata": {},
     "output_type": "display_data"
    },
    {
     "data": {
      "application/vnd.jupyter.widget-view+json": {
       "model_id": "665c81c25d464492871ffafb8cbec4e6",
       "version_major": 2,
       "version_minor": 0
      },
      "text/plain": [
       "  0%|          | 0/10 [00:00<?, ?it/s]"
      ]
     },
     "metadata": {},
     "output_type": "display_data"
    }
   ],
   "source": [
    "for i in tq(range(10)):\n",
    "    for j in tq(range(10)):\n",
    "        # 이미지 클릭\n",
    "        time.sleep(5)\n",
    "        img = driver.find_element_by_css_selector(f'li:nth-child({j+1}) > div.list_left > div > a')\n",
    "        img.click()\n",
    "         # 단어 설명\n",
    "        text = driver.find_element_by_css_selector('#signViewForm > dl > dd:nth-child(2)').text\n",
    "        text = text.replace('/',',')\n",
    "         # 영상 다운로드\n",
    "        se = driver.find_element_by_xpath('//*[@id=\"html5Video\"]/source[2]')\n",
    "        url = se.get_attribute('src')\n",
    "        urllib.request.urlretrieve(url,f'C:/Users/smhrd/Desktop/Video/IT/{text}.mp4')\n",
    "        time.sleep(5)\n",
    "        driver.back()\n",
    "    time.sleep(5)\n",
    "    List = driver.find_element_by_css_selector(f'#signListForm > div.result_list.mt_30 > div.paging2.clear2 > span:nth-child({i+4}) > a')\n",
    "    List.click()"
   ]
  },
  {
   "cell_type": "code",
   "execution_count": 121,
   "id": "7e94a156",
   "metadata": {},
   "outputs": [
    {
     "name": "stderr",
     "output_type": "stream",
     "text": [
      "<ipython-input-121-e2c8e08ab3c1>:1: DeprecationWarning: find_element_by_* commands are deprecated. Please use find_element() instead\n",
      "  text = driver.find_element_by_css_selector('#signViewForm > dl > dd:nth-child(2)').text\n",
      "<ipython-input-121-e2c8e08ab3c1>:4: DeprecationWarning: find_element_by_* commands are deprecated. Please use find_element() instead\n",
      "  se = driver.find_element_by_xpath('//*[@id=\"html5Video\"]/source[2]')\n"
     ]
    },
    {
     "data": {
      "text/plain": [
       "('C:/Users/smhrd/Desktop/Video/IT/파워포인트 (PowerPoint).mp4',\n",
       " <http.client.HTTPMessage at 0x1fda4515610>)"
      ]
     },
     "execution_count": 121,
     "metadata": {},
     "output_type": "execute_result"
    }
   ],
   "source": [
    "text = driver.find_element_by_css_selector('#signViewForm > dl > dd:nth-child(2)').text\n",
    "text = text.replace('/',',')\n",
    "# 영상 다운로드\n",
    "se = driver.find_element_by_xpath('//*[@id=\"html5Video\"]/source[2]')\n",
    "url = se.get_attribute('src')\n",
    "urllib.request.urlretrieve(url,f'C:/Users/smhrd/Desktop/Video/IT/{text}.mp4')"
   ]
  },
  {
   "cell_type": "code",
   "execution_count": 75,
   "id": "74f24330",
   "metadata": {
    "collapsed": true
   },
   "outputs": [
    {
     "name": "stderr",
     "output_type": "stream",
     "text": [
      "<ipython-input-75-421aba70680c>:3: DeprecationWarning: find_element_by_* commands are deprecated. Please use find_element() instead\n",
      "  click = driver.find_element_by_css_selector('#cteView1')\n",
      "<ipython-input-75-421aba70680c>:7: DeprecationWarning: find_element_by_* commands are deprecated. Please use find_element() instead\n",
      "  edu = driver.find_element_by_css_selector('#cteView2 > li:nth-child(8) > a')\n",
      "<ipython-input-75-421aba70680c>:12: TqdmDeprecationWarning: This function will be removed in tqdm==5.0.0\n",
      "Please use `tqdm.notebook.tqdm` instead of `tqdm.tqdm_notebook`\n",
      "  for i in tq(range(10)):\n"
     ]
    },
    {
     "data": {
      "application/vnd.jupyter.widget-view+json": {
       "model_id": "cdaa30cecbc54731b8fe9a0941338730",
       "version_major": 2,
       "version_minor": 0
      },
      "text/plain": [
       "  0%|          | 0/10 [00:00<?, ?it/s]"
      ]
     },
     "metadata": {},
     "output_type": "display_data"
    },
    {
     "name": "stderr",
     "output_type": "stream",
     "text": [
      "<ipython-input-75-421aba70680c>:13: TqdmDeprecationWarning: This function will be removed in tqdm==5.0.0\n",
      "Please use `tqdm.notebook.tqdm` instead of `tqdm.tqdm_notebook`\n",
      "  for j in tq(range(10)):\n"
     ]
    },
    {
     "data": {
      "application/vnd.jupyter.widget-view+json": {
       "model_id": "eb22ba3d6f3c4645a3e4a46e7d8a1bfb",
       "version_major": 2,
       "version_minor": 0
      },
      "text/plain": [
       "  0%|          | 0/10 [00:00<?, ?it/s]"
      ]
     },
     "metadata": {},
     "output_type": "display_data"
    },
    {
     "name": "stderr",
     "output_type": "stream",
     "text": [
      "<ipython-input-75-421aba70680c>:16: DeprecationWarning: find_element_by_* commands are deprecated. Please use find_element() instead\n",
      "  img = driver.find_element_by_css_selector(f'li:nth-child({j+1}) > div.list_left > div > a')\n",
      "<ipython-input-75-421aba70680c>:20: DeprecationWarning: find_element_by_* commands are deprecated. Please use find_element() instead\n",
      "  text = driver.find_element_by_css_selector('#signViewForm > dl > dd').text\n",
      "<ipython-input-75-421aba70680c>:22: DeprecationWarning: find_element_by_* commands are deprecated. Please use find_element() instead\n",
      "  se = driver.find_element_by_xpath('//*[@id=\"html5Video\"]/source[2]')\n",
      "<ipython-input-75-421aba70680c>:29: DeprecationWarning: find_element_by_* commands are deprecated. Please use find_element() instead\n",
      "  List = driver.find_element_by_css_selector(f'#signListForm > div.result_list.mt_30 > div.paging2.clear2 > span:nth-child({i+2}) > a')\n"
     ]
    },
    {
     "data": {
      "application/vnd.jupyter.widget-view+json": {
       "model_id": "a94c839637d14a63a5df4dbc1b6b64d4",
       "version_major": 2,
       "version_minor": 0
      },
      "text/plain": [
       "  0%|          | 0/10 [00:00<?, ?it/s]"
      ]
     },
     "metadata": {},
     "output_type": "display_data"
    },
    {
     "data": {
      "application/vnd.jupyter.widget-view+json": {
       "model_id": "2851b24a76c8456e821a70e8418a79c7",
       "version_major": 2,
       "version_minor": 0
      },
      "text/plain": [
       "  0%|          | 0/10 [00:00<?, ?it/s]"
      ]
     },
     "metadata": {},
     "output_type": "display_data"
    },
    {
     "data": {
      "application/vnd.jupyter.widget-view+json": {
       "model_id": "a25ade1ad2d04ef7bf3d5cff2b388bd6",
       "version_major": 2,
       "version_minor": 0
      },
      "text/plain": [
       "  0%|          | 0/10 [00:00<?, ?it/s]"
      ]
     },
     "metadata": {},
     "output_type": "display_data"
    },
    {
     "data": {
      "application/vnd.jupyter.widget-view+json": {
       "model_id": "ce34138a453749689a7afbb8b6a52e53",
       "version_major": 2,
       "version_minor": 0
      },
      "text/plain": [
       "  0%|          | 0/10 [00:00<?, ?it/s]"
      ]
     },
     "metadata": {},
     "output_type": "display_data"
    },
    {
     "data": {
      "application/vnd.jupyter.widget-view+json": {
       "model_id": "4684ee57de624f9482d69872fbbcb9bb",
       "version_major": 2,
       "version_minor": 0
      },
      "text/plain": [
       "  0%|          | 0/10 [00:00<?, ?it/s]"
      ]
     },
     "metadata": {},
     "output_type": "display_data"
    },
    {
     "data": {
      "application/vnd.jupyter.widget-view+json": {
       "model_id": "00976b7879fe467d9814b12215d0d0f2",
       "version_major": 2,
       "version_minor": 0
      },
      "text/plain": [
       "  0%|          | 0/10 [00:00<?, ?it/s]"
      ]
     },
     "metadata": {},
     "output_type": "display_data"
    },
    {
     "data": {
      "application/vnd.jupyter.widget-view+json": {
       "model_id": "6b8c2ef9057948ce90e8429ad9b9f813",
       "version_major": 2,
       "version_minor": 0
      },
      "text/plain": [
       "  0%|          | 0/10 [00:00<?, ?it/s]"
      ]
     },
     "metadata": {},
     "output_type": "display_data"
    }
   ],
   "source": [
    "# 한국수어사전 - 일상생활 수어 - 교육\n",
    "# 사이트 열기\n",
    "driver = wb.Chrome('chromedriver3.exe')\n",
    "driver.get('https://sldict.korean.go.kr/front/main/main.do')\n",
    "# 대분류 클릭\n",
    "time.sleep(3)\n",
    "click = driver.find_element_by_css_selector('#cteView1')\n",
    "click.click()\n",
    "# 교육 클릭\n",
    "time.sleep(5)\n",
    "edu = driver.find_element_by_css_selector('#cteView2 > li:nth-child(8) > a')\n",
    "edu.click()\n",
    "# 한 목록\n",
    "try:\n",
    "    \n",
    "    for i in tq(range(10)):\n",
    "        for j in tq(range(10)):\n",
    "            # 이미지 클릭\n",
    "            time.sleep(5)\n",
    "            img = driver.find_element_by_css_selector(f'li:nth-child({j+1}) > div.list_left > div > a')\n",
    "            img.click()\n",
    "            # li:nth-child(2) > div.list_left > div > a\n",
    "            # 단어 설명\n",
    "            text = driver.find_element_by_css_selector('#signViewForm > dl > dd').text\n",
    "            # 영상 다운로드\n",
    "            se = driver.find_element_by_xpath('//*[@id=\"html5Video\"]/source[2]')\n",
    "            url = se.get_attribute('src')\n",
    "            urllib.request.urlretrieve(url,f'C:/Users/smhrd/Desktop/Video/{text}.mp4')\n",
    "            time.sleep(5)\n",
    "            driver.back()\n",
    "        # 하단 목록번호\n",
    "        time.sleep(5)\n",
    "        List = driver.find_element_by_css_selector(f'#signListForm > div.result_list.mt_30 > div.paging2.clear2 > span:nth-child({i+2}) > a')\n",
    "        List.click()\n",
    "except:\n",
    "    pass\n",
    "\n"
   ]
  },
  {
   "cell_type": "code",
   "execution_count": 73,
   "id": "f643cc69",
   "metadata": {},
   "outputs": [
    {
     "name": "stderr",
     "output_type": "stream",
     "text": [
      "<ipython-input-73-b38e49192a95>:1: DeprecationWarning: find_element_by_* commands are deprecated. Please use find_element() instead\n",
      "  driver.find_element_by_css_selector('#signViewForm > dl > dd').text\n"
     ]
    },
    {
     "data": {
      "text/plain": [
       "'상'"
      ]
     },
     "execution_count": 73,
     "metadata": {},
     "output_type": "execute_result"
    }
   ],
   "source": [
    "\n"
   ]
  },
  {
   "cell_type": "code",
   "execution_count": 32,
   "id": "318029d1",
   "metadata": {},
   "outputs": [],
   "source": [
    "# 영상 다운로드\n",
    "se = driver.find_element_by_xpath('//*[@id=\"html5Video\"]/source[2]')\n",
    "url = se.get_attribute('src')\n",
    "urllib.request.urlretrieve(url,'C:/Users/smhrd/Desktop/Video/test.mp4')"
   ]
  },
  {
   "cell_type": "code",
   "execution_count": 35,
   "id": "013c771e",
   "metadata": {},
   "outputs": [
    {
     "data": {
      "text/plain": [
       "('C:/Users/smhrd/Desktop/Video/test.mp4',\n",
       " <http.client.HTTPMessage at 0x1fda43dc8b0>)"
      ]
     },
     "execution_count": 35,
     "metadata": {},
     "output_type": "execute_result"
    }
   ],
   "source": []
  },
  {
   "cell_type": "code",
   "execution_count": null,
   "id": "2f860754",
   "metadata": {},
   "outputs": [],
   "source": []
  }
 ],
 "metadata": {
  "kernelspec": {
   "display_name": "Python 3",
   "language": "python",
   "name": "python3"
  },
  "language_info": {
   "codemirror_mode": {
    "name": "ipython",
    "version": 3
   },
   "file_extension": ".py",
   "mimetype": "text/x-python",
   "name": "python",
   "nbconvert_exporter": "python",
   "pygments_lexer": "ipython3",
   "version": "3.8.8"
  }
 },
 "nbformat": 4,
 "nbformat_minor": 5
}
