{
 "cells": [
  {
   "cell_type": "code",
   "execution_count": 1,
   "id": "2b12b335",
   "metadata": {},
   "outputs": [],
   "source": [
    "import requests as req\n",
    "import pandas as pd\n",
    "import time\n",
    "from bs4 import BeautifulSoup as bs\n",
    "from selenium import webdriver as wb\n",
    "from selenium.webdriver.common.keys import Keys\n",
    "from selenium.webdriver.common.by import By\n",
    "from selenium.webdriver.support.ui import WebDriverWait\n",
    "from selenium.webdriver.support import expected_conditions as EC\n",
    "from selenium.common.exceptions import NoSuchElementException,StaleElementReferenceException\n",
    "from tqdm import tqdm_notebook as tq\n",
    "import urllib.request\n",
    "import json\n",
    "import csv\n",
    "import os # 파일시스템을 제어하는 라이브러리 ex)파일, 폴더를 생성, 삭제하는 라이브러리\n",
    "from urllib.request import urlretrieve # 이미지의 경로를 파일로 저장시켜주는 라이브러리"
   ]
  },
  {
   "cell_type": "code",
   "execution_count": 39,
   "id": "e220f774",
   "metadata": {},
   "outputs": [
    {
     "name": "stderr",
     "output_type": "stream",
     "text": [
      "<ipython-input-39-9ef280927522>:1: DeprecationWarning: executable_path has been deprecated, please pass in a Service object\n",
      "  driver = wb.Chrome('C:/Users/smhrd/Desktop/PythonStudy/크롤링/chromedriver.exe')\n",
      "<ipython-input-39-9ef280927522>:4: DeprecationWarning: find_element_by_* commands are deprecated. Please use find_element() instead\n",
      "  body = driver.find_element_by_tag_name('body')\n",
      "<ipython-input-39-9ef280927522>:8: DeprecationWarning: find_element_by_* commands are deprecated. Please use find_element() instead\n",
      "  actor = driver.find_element_by_css_selector('div:nth-child(2) > div:nth-child(6) > div:nth-child(1) > div.hidden-horizontal-scrollbar.title-credits > div > div:nth-child({}) > a'.format(i+1)).text\n"
     ]
    }
   ],
   "source": [
    "driver = wb.Chrome('C:/Users/smhrd/Desktop/PythonStudy/크롤링/chromedriver.exe')\n",
    "# 넷플릭스, 웨이브, 왓챠, 네이버스토어, 구글앱스토어 평점 7점이상 작품링크\n",
    "driver.get('https://www.justwatch.com/kr/%EC%98%81%ED%99%94/dyun')\n",
    "body = driver.find_element_by_tag_name('body')\n",
    "    \n"
   ]
  },
  {
   "cell_type": "code",
   "execution_count": 40,
   "id": "48ace8be",
   "metadata": {},
   "outputs": [
    {
     "name": "stdout",
     "output_type": "stream",
     "text": [
      "[['Timothée Chalamet', 'Rebecca Ferguson', 'Oscar Isaac', 'Zendaya']]\n"
     ]
    }
   ],
   "source": [
    "print(actor_list)"
   ]
  },
  {
   "cell_type": "code",
   "execution_count": 70,
   "id": "1c8d2bba",
   "metadata": {},
   "outputs": [
    {
     "name": "stderr",
     "output_type": "stream",
     "text": [
      "<ipython-input-70-17103e3519b7>:1: DeprecationWarning: find_element_by_* commands are deprecated. Please use find_element() instead\n",
      "  name = driver.find_element_by_css_selector('div.title-block > div > h1')\n"
     ]
    },
    {
     "data": {
      "text/plain": [
       "'베놈'"
      ]
     },
     "execution_count": 70,
     "metadata": {},
     "output_type": "execute_result"
    }
   ],
   "source": [
    "name = driver.find_element_by_css_selector('div.title-block > div > h1')\n",
    "\n",
    "name.text"
   ]
  },
  {
   "cell_type": "code",
   "execution_count": 15,
   "id": "3bed3e77",
   "metadata": {},
   "outputs": [
    {
     "name": "stderr",
     "output_type": "stream",
     "text": [
      "<ipython-input-15-455952b3b23a>:1: DeprecationWarning: find_element_by_* commands are deprecated. Please use find_element() instead\n",
      "  openShow = driver.find_element_by_css_selector('div.title-block > div > span')\n"
     ]
    },
    {
     "data": {
      "text/plain": [
       "'(2021)'"
      ]
     },
     "execution_count": 15,
     "metadata": {},
     "output_type": "execute_result"
    }
   ],
   "source": [
    "openShow = driver.find_element_by_css_selector('div.title-block > div > span')\n",
    "openShow.text"
   ]
  },
  {
   "cell_type": "code",
   "execution_count": 233,
   "id": "6da5cd02",
   "metadata": {},
   "outputs": [
    {
     "name": "stderr",
     "output_type": "stream",
     "text": [
      "<ipython-input-233-b1ebbe9a88f9>:1: DeprecationWarning: find_element_by_* commands are deprecated. Please use find_element() instead\n",
      "  jangre = driver.find_element_by_css_selector('div:nth-child(3) > div.detail-infos__value')\n"
     ]
    },
    {
     "data": {
      "text/plain": [
       "''"
      ]
     },
     "execution_count": 233,
     "metadata": {},
     "output_type": "execute_result"
    }
   ],
   "source": [
    "jangre = driver.find_element_by_css_selector('div:nth-child(3) > div.detail-infos__value')\n",
    "jangre.text"
   ]
  },
  {
   "cell_type": "code",
   "execution_count": 56,
   "id": "8aeb0843",
   "metadata": {},
   "outputs": [
    {
     "name": "stderr",
     "output_type": "stream",
     "text": [
      "<ipython-input-56-f5d9d0c127a2>:1: DeprecationWarning: find_element_by_* commands are deprecated. Please use find_element() instead\n",
      "  time = driver.find_element_by_css_selector('div:nth-child(4) > div.detail-infos__value')\n"
     ]
    },
    {
     "data": {
      "text/plain": [
       "'1시간 52분'"
      ]
     },
     "execution_count": 56,
     "metadata": {},
     "output_type": "execute_result"
    }
   ],
   "source": [
    "#time = driver.find_element_by_css_selector('div:nth-child(4) > div.detail-infos__value')\n",
    "#time.text"
   ]
  },
  {
   "cell_type": "code",
   "execution_count": 63,
   "id": "d038de33",
   "metadata": {},
   "outputs": [
    {
     "name": "stderr",
     "output_type": "stream",
     "text": [
      "<ipython-input-63-a35b23311f0a>:1: DeprecationWarning: find_element_by_* commands are deprecated. Please use find_element() instead\n",
      "  story = driver.find_element_by_css_selector('div:nth-child(4) > p > span')\n"
     ]
    },
    {
     "data": {
      "text/plain": [
       "'진실을 위해서라면 몸을 사리지 않고 사회의 부조리를 취재하는 정의로운 열혈 기자 에디 브록. 거대 기업 라이프 파운데이션의 생체실험에 의혹을 품고 뒤를 쫓던 그는 이들의 사무실에 잠입했다가 실험실에서 외계 생물체 심비오트의 기습 공격을 받게 된다. 심비오트가 숙주의 몸과 정신을 지배할 때 능력을 발휘하는 베놈은 에디의 몸에 기생하며 갖가지 소동을 일으킨다. 한편 비밀리에 인간과 심비오트를 결합해 새로운 생명체를 만들려는 시도를 계속하던 라이프 파운데이션의 회장 드레이크 또한 심비오트의 숙주가 된다.'"
      ]
     },
     "execution_count": 63,
     "metadata": {},
     "output_type": "execute_result"
    }
   ],
   "source": [
    "story = driver.find_element_by_css_selector('div:nth-child(4) > p > span')\n",
    "story.text\n"
   ]
  },
  {
   "cell_type": "code",
   "execution_count": 294,
   "id": "a69181f0",
   "metadata": {},
   "outputs": [
    {
     "name": "stdout",
     "output_type": "stream",
     "text": [
      "[[' 스트리밍 ', ' 대여 ', ' 구매 ']]\n",
      "[{'Google Play Movies', 'Watcha', 'Naver Store', 'wavve'}]\n"
     ]
    },
    {
     "data": {
      "text/plain": [
       "list"
      ]
     },
     "execution_count": 294,
     "metadata": {},
     "output_type": "execute_result"
    }
   ],
   "source": [
    "streaming_list=[]  #  스트리밍\n",
    "rent_title_list=[] # 제공중인 플랫폼\n",
    "line=[] # 2차원 리스트를 위한 배열 \n",
    "line2=[] \n",
    "for i in range(1):\n",
    "    \n",
    "    for i in range(len(rent_L)):\n",
    "        streaming_li=rent_L[i].find('img')['title']\n",
    "        line.append(streaming_li)\n",
    "    result = set(line) # set(list) 중복제거\n",
    "    streaming_list.append(result)\n",
    "    \n",
    "    # 제목 가져오는 크롤링\n",
    "    for i in range(len(rent_title)):\n",
    "        line2.append(rent_title[i].text)\n",
    "    rent_title_list.append(line2)\n",
    "   \n",
    "\n",
    "print(rent_title_list)\n",
    "print(streaming_list)\n"
   ]
  },
  {
   "cell_type": "code",
   "execution_count": 308,
   "id": "9999cd38",
   "metadata": {
    "collapsed": true
   },
   "outputs": [
    {
     "name": "stdout",
     "output_type": "stream",
     "text": [
      "[{'https://click.justwatch.com/a?r=http%3A%2F%2Fserieson.naver.com%2Fmovie%2Fdetail.nhn%3FproductNo%3D3814231&cx=eyJzY2hlbWEiOiJpZ2x1OmNvbS5zbm93cGxvd2FuYWx5dGljcy5zbm93cGxvdy9jb250ZXh0cy9qc29uc2NoZW1hLzEtMC0wIiwiZGF0YSI6W3sic2NoZW1hIjoiaWdsdTpjb20uanVzdHdhdGNoL3RpdGxlX2NvbnRleHQvanNvbnNjaGVtYS8xLTAtMCIsImRhdGEiOnsidGl0bGVJZCI6MzEzMDQ0LCJvYmplY3RUeXBlIjoibW92aWUiLCJqd0VudGl0eUlkIjoidG0zMTMwNDQifX0seyJzY2hlbWEiOiJpZ2x1OmNvbS5qdXN0d2F0Y2gvY2xpY2tvdXRfY29udGV4dC9qc29uc2NoZW1hLzEtMi0wIiwiZGF0YSI6eyJwcm92aWRlciI6Ik5hdmVyIFN0b3JlIiwicHJvdmlkZXJJZCI6OTYsIm1vbmV0aXphdGlvblR5cGUiOiJidXkiLCJwcmVzZW50YXRpb25UeXBlIjoiaGQiLCJjdXJyZW5jeSI6IktSVyIsInByaWNlIjo1MDAwLCJvcmlnaW5hbFByaWNlIjo0MDAwLCJwYXJ0bmVySWQiOjF9fV19&uct_country=KR&uct_buybox=normal&sid=', 'https://click.justwatch.com/a?r=https%3A%2F%2Fwww.wavve.com%2Fplayer%2Fmovie%3Fmovieid%3DMV_CF01_SY0000011543&cx=eyJzY2hlbWEiOiJpZ2x1OmNvbS5zbm93cGxvd2FuYWx5dGljcy5zbm93cGxvdy9jb250ZXh0cy9qc29uc2NoZW1hLzEtMC0wIiwiZGF0YSI6W3sic2NoZW1hIjoiaWdsdTpjb20uanVzdHdhdGNoL3RpdGxlX2NvbnRleHQvanNvbnNjaGVtYS8xLTAtMCIsImRhdGEiOnsidGl0bGVJZCI6MzEzMDQ0LCJvYmplY3RUeXBlIjoibW92aWUiLCJqd0VudGl0eUlkIjoidG0zMTMwNDQifX0seyJzY2hlbWEiOiJpZ2x1OmNvbS5qdXN0d2F0Y2gvY2xpY2tvdXRfY29udGV4dC9qc29uc2NoZW1hLzEtMi0wIiwiZGF0YSI6eyJwcm92aWRlciI6IndhdnZlIiwicHJvdmlkZXJJZCI6MzU2LCJtb25ldGl6YXRpb25UeXBlIjoicmVudCIsInByZXNlbnRhdGlvblR5cGUiOiJoZCIsImN1cnJlbmN5IjoiS1JXIiwicHJpY2UiOjEzMDAsIm9yaWdpbmFsUHJpY2UiOjI4MDAsInBhcnRuZXJJZCI6MX19XX0&uct_country=KR&uct_buybox=normal&sid=', 'https://click.justwatch.com/a?r=http%3A%2F%2Fserieson.naver.com%2Fmovie%2Fdetail.nhn%3FproductNo%3D3843473&cx=eyJzY2hlbWEiOiJpZ2x1OmNvbS5zbm93cGxvd2FuYWx5dGljcy5zbm93cGxvdy9jb250ZXh0cy9qc29uc2NoZW1hLzEtMC0wIiwiZGF0YSI6W3sic2NoZW1hIjoiaWdsdTpjb20uanVzdHdhdGNoL3RpdGxlX2NvbnRleHQvanNvbnNjaGVtYS8xLTAtMCIsImRhdGEiOnsidGl0bGVJZCI6MzEzMDQ0LCJvYmplY3RUeXBlIjoibW92aWUiLCJqd0VudGl0eUlkIjoidG0zMTMwNDQifX0seyJzY2hlbWEiOiJpZ2x1OmNvbS5qdXN0d2F0Y2gvY2xpY2tvdXRfY29udGV4dC9qc29uc2NoZW1hLzEtMi0wIiwiZGF0YSI6eyJwcm92aWRlciI6Ik5hdmVyIFN0b3JlIiwicHJvdmlkZXJJZCI6OTYsIm1vbmV0aXphdGlvblR5cGUiOiJyZW50IiwicHJlc2VudGF0aW9uVHlwZSI6ImhkIiwiY3VycmVuY3kiOiJLUlciLCJwcmljZSI6MTMwMCwib3JpZ2luYWxQcmljZSI6MjgwMCwicGFydG5lcklkIjoxfX1dfQ&uct_country=KR&uct_buybox=normal&sid=', 'https://click.justwatch.com/a?r=https%3A%2F%2Fplay.google.com%2Fstore%2Fmovies%2Fdetails%2F%25EB%25B2%25A0%25EB%2586%2588_Venom%3Fgl%3DKR%26hl%3Den%26id%3DuEv-FGwTDEw&cx=eyJzY2hlbWEiOiJpZ2x1OmNvbS5zbm93cGxvd2FuYWx5dGljcy5zbm93cGxvdy9jb250ZXh0cy9qc29uc2NoZW1hLzEtMC0wIiwiZGF0YSI6W3sic2NoZW1hIjoiaWdsdTpjb20uanVzdHdhdGNoL3RpdGxlX2NvbnRleHQvanNvbnNjaGVtYS8xLTAtMCIsImRhdGEiOnsidGl0bGVJZCI6MzEzMDQ0LCJvYmplY3RUeXBlIjoibW92aWUiLCJqd0VudGl0eUlkIjoidG0zMTMwNDQifX0seyJzY2hlbWEiOiJpZ2x1OmNvbS5qdXN0d2F0Y2gvY2xpY2tvdXRfY29udGV4dC9qc29uc2NoZW1hLzEtMi0wIiwiZGF0YSI6eyJwcm92aWRlciI6Ikdvb2dsZSBQbGF5IE1vdmllcyIsInByb3ZpZGVySWQiOjMsIm1vbmV0aXphdGlvblR5cGUiOiJidXkiLCJwcmVzZW50YXRpb25UeXBlIjoiaGQiLCJjdXJyZW5jeSI6IktSVyIsInByaWNlIjo0MDAwLCJwYXJ0bmVySWQiOjF9fV19&uct_country=KR&uct_buybox=normal&sid=', 'https://click.justwatch.com/a?r=https%3A%2F%2Fwww.wavve.com%2Fplayer%2Fmovie%3Fmovieid%3DMV_CF01_SY0000011543&cx=eyJzY2hlbWEiOiJpZ2x1OmNvbS5zbm93cGxvd2FuYWx5dGljcy5zbm93cGxvdy9jb250ZXh0cy9qc29uc2NoZW1hLzEtMC0wIiwiZGF0YSI6W3sic2NoZW1hIjoiaWdsdTpjb20uanVzdHdhdGNoL3RpdGxlX2NvbnRleHQvanNvbnNjaGVtYS8xLTAtMCIsImRhdGEiOnsidGl0bGVJZCI6MzEzMDQ0LCJvYmplY3RUeXBlIjoibW92aWUiLCJqd0VudGl0eUlkIjoidG0zMTMwNDQifX0seyJzY2hlbWEiOiJpZ2x1OmNvbS5qdXN0d2F0Y2gvY2xpY2tvdXRfY29udGV4dC9qc29uc2NoZW1hLzEtMi0wIiwiZGF0YSI6eyJwcm92aWRlciI6IndhdnZlIiwicHJvdmlkZXJJZCI6MzU2LCJtb25ldGl6YXRpb25UeXBlIjoiYnV5IiwicHJlc2VudGF0aW9uVHlwZSI6ImhkIiwiY3VycmVuY3kiOiJLUlciLCJwcmljZSI6NTUwMCwicGFydG5lcklkIjoxfX1dfQ&uct_country=KR&uct_buybox=normal&sid=', 'https://click.justwatch.com/a?r=https%3A%2F%2Fwatcha.com%2Fcontents%2FmdRLbZr&cx=eyJzY2hlbWEiOiJpZ2x1OmNvbS5zbm93cGxvd2FuYWx5dGljcy5zbm93cGxvdy9jb250ZXh0cy9qc29uc2NoZW1hLzEtMC0wIiwiZGF0YSI6W3sic2NoZW1hIjoiaWdsdTpjb20uanVzdHdhdGNoL3RpdGxlX2NvbnRleHQvanNvbnNjaGVtYS8xLTAtMCIsImRhdGEiOnsidGl0bGVJZCI6MzEzMDQ0LCJvYmplY3RUeXBlIjoibW92aWUiLCJqd0VudGl0eUlkIjoidG0zMTMwNDQifX0seyJzY2hlbWEiOiJpZ2x1OmNvbS5qdXN0d2F0Y2gvY2xpY2tvdXRfY29udGV4dC9qc29uc2NoZW1hLzEtMi0wIiwiZGF0YSI6eyJwcm92aWRlciI6IldhdGNoYSIsInByb3ZpZGVySWQiOjk3LCJtb25ldGl6YXRpb25UeXBlIjoiZmxhdHJhdGUiLCJwcmVzZW50YXRpb25UeXBlIjoiaGQiLCJjdXJyZW5jeSI6IktSVyIsInBhcnRuZXJJZCI6MX19XX0&uct_country=KR&uct_buybox=normal&sid=', 'https://click.justwatch.com/a?r=https%3A%2F%2Fplay.google.com%2Fstore%2Fmovies%2Fdetails%2F%25EB%25B2%25A0%25EB%2586%2588_Venom%3Fgl%3DKR%26hl%3Den%26id%3DuEv-FGwTDEw&cx=eyJzY2hlbWEiOiJpZ2x1OmNvbS5zbm93cGxvd2FuYWx5dGljcy5zbm93cGxvdy9jb250ZXh0cy9qc29uc2NoZW1hLzEtMC0wIiwiZGF0YSI6W3sic2NoZW1hIjoiaWdsdTpjb20uanVzdHdhdGNoL3RpdGxlX2NvbnRleHQvanNvbnNjaGVtYS8xLTAtMCIsImRhdGEiOnsidGl0bGVJZCI6MzEzMDQ0LCJvYmplY3RUeXBlIjoibW92aWUiLCJqd0VudGl0eUlkIjoidG0zMTMwNDQifX0seyJzY2hlbWEiOiJpZ2x1OmNvbS5qdXN0d2F0Y2gvY2xpY2tvdXRfY29udGV4dC9qc29uc2NoZW1hLzEtMi0wIiwiZGF0YSI6eyJwcm92aWRlciI6Ikdvb2dsZSBQbGF5IE1vdmllcyIsInByb3ZpZGVySWQiOjMsIm1vbmV0aXphdGlvblR5cGUiOiJyZW50IiwicHJlc2VudGF0aW9uVHlwZSI6InNkIiwiY3VycmVuY3kiOiJLUlciLCJwcmljZSI6OTAwLCJwYXJ0bmVySWQiOjF9fV19&uct_country=KR&uct_buybox=normal&sid='}]\n"
     ]
    }
   ],
   "source": [
    "# 링크 가져오기\n",
    "## \n",
    "link_list = [] # 링크 \n",
    "line3 = []\n",
    "link = soup.find_all('div','presentation-type price-comparison__grid__row__element__icon')\n",
    "for i in range(len(link)):\n",
    "    link_li=link[i].find('a')['href']\n",
    "    line3.append(link_li)\n",
    "result2 = set(line3)\n",
    "link_list.append(result2)\n",
    "\n"
   ]
  },
  {
   "cell_type": "code",
   "execution_count": 340,
   "id": "13912cdf",
   "metadata": {},
   "outputs": [
    {
     "name": "stdout",
     "output_type": "stream",
     "text": [
      "['2시간 1분', '1시간 55분', '1시간 37분', '1시간 56분', '얘도안되네?', '얘도안되네?']\n"
     ]
    },
    {
     "name": "stderr",
     "output_type": "stream",
     "text": [
      "<ipython-input-340-0f536e02e666>:2: DeprecationWarning: find_element_by_* commands are deprecated. Please use find_element() instead\n",
      "  movieTime = driver.find_element_by_css_selector('#base > div.jw-info-box > div > div.jw-info-box__container-content > div:nth-child(2) > div:nth-child(6) > div:nth-child(1) > div.title-info.visible-xs.visible-sm > div:nth-child(4) > div.detail-infos__value').text # 상영시간\n"
     ]
    }
   ],
   "source": [
    "#이미지 가져오기\n",
    "img_list=[]\n",
    "img = soup.find('picture','picture-comp title-poster__image').find('img')['data-src'] \n",
    "img_list.append(img)\n",
    "\n",
    "print(img_list)"
   ]
  },
  {
   "cell_type": "code",
   "execution_count": null,
   "id": "496755bc",
   "metadata": {},
   "outputs": [],
   "source": [
    "driver = wb.Chrome('C:/Users/smhrd/Desktop/PythonStudy/크롤링/chromedriver.exe')\n",
    "# 넷플릭스, 웨이브, 왓챠, 네이버스토어, 구글앱스토어 평점 7점이상 작품링크\n",
    "driver.get('https://www.justwatch.com/kr/%EC%98%81%ED%99%94?providers=nfx,nvs,ply,wac,wav&rating_imdb=7')\n",
    "body = driver.find_element_by_tag_name('body')\n",
    "\n",
    "jangre_list = [] # 장르\n",
    "\n",
    "\n",
    "\n",
    "line4=[]\n",
    "\n",
    "for i in tq(range(4)):\n",
    "    img = driver.find_elements_by_css_selector(\"a > div.title-poster\")\n",
    "    img[i].click()\n",
    "    time.sleep(5)\n",
    "    req = driver.page_source\n",
    "    soup = bs(req,'lxml')\n",
    "    \n",
    "    \n",
    "    try : \n",
    "        jangre = driver.find_element_by_css_selector('#base > div.jw-info-box > div > div.jw-info-box__container-content > div:nth-child(2) > div:nth-child(6) > div:nth-child(1) > div.title-info.visible-xs.visible-sm > div:nth-child(3) > div.detail-infos__value').text # 장르\n",
    "    except NoSuchElementException:\n",
    "        jangre = driver.find_element_by_css_selector('#base > div.jw-info-box > div > div.jw-info-box__container-content > div:nth-child(2) > div:nth-child(5) > div:nth-child(1) > div.title-info.visible-xs.visible-sm > div:nth-child(3) > div.detail-infos__value').text\n",
    "    except NoSuchElementException:\n",
    "        jangre = \"현재시각 오전4시23분\"\n",
    "    \n",
    "    jangre_list.append(jangre)\n",
    "   \n",
    "    time.sleep(5)\n",
    "    \n",
    "    driver.back()\n",
    "    time.sleep(5)\n"
   ]
  },
  {
   "cell_type": "code",
   "execution_count": null,
   "id": "a0897da4",
   "metadata": {},
   "outputs": [],
   "source": [
    "print(jangre_list)"
   ]
  },
  {
   "cell_type": "code",
   "execution_count": 48,
   "id": "ce822c2d",
   "metadata": {},
   "outputs": [
    {
     "name": "stderr",
     "output_type": "stream",
     "text": [
      "<ipython-input-48-722a06956379>:6: DeprecationWarning: executable_path has been deprecated, please pass in a Service object\n",
      "  driver = wb.Chrome('C:/Users/smhrd/Desktop/PythonStudy/크롤링/chromedriver.exe')\n",
      "<ipython-input-48-722a06956379>:9: DeprecationWarning: find_element_by_* commands are deprecated. Please use find_element() instead\n",
      "  body = driver.find_element_by_tag_name('body')\n",
      "<ipython-input-48-722a06956379>:23: TqdmDeprecationWarning: This function will be removed in tqdm==5.0.0\n",
      "Please use `tqdm.notebook.tqdm` instead of `tqdm.tqdm_notebook`\n",
      "  for i in tq(range(700)):\n"
     ]
    },
    {
     "data": {
      "application/vnd.jupyter.widget-view+json": {
       "model_id": "59dc7e51d6fe43918e1eceaf54403f4a",
       "version_major": 2,
       "version_minor": 0
      },
      "text/plain": [
       "  0%|          | 0/700 [00:00<?, ?it/s]"
      ]
     },
     "metadata": {},
     "output_type": "display_data"
    },
    {
     "name": "stderr",
     "output_type": "stream",
     "text": [
      "<ipython-input-48-722a06956379>:24: DeprecationWarning: find_elements_by_* commands are deprecated. Please use find_elements() instead\n",
      "  img = driver.find_elements_by_css_selector(\"a > div.title-poster\")\n",
      "<ipython-input-48-722a06956379>:37: DeprecationWarning: find_element_by_* commands are deprecated. Please use find_element() instead\n",
      "  name = driver.find_element_by_css_selector('div.title-block > div > h1').text # 제목\n",
      "<ipython-input-48-722a06956379>:38: DeprecationWarning: find_element_by_* commands are deprecated. Please use find_element() instead\n",
      "  openShow = driver.find_element_by_css_selector('div.title-block > div > span').text #개봉년도\n",
      "<ipython-input-48-722a06956379>:42: DeprecationWarning: find_element_by_* commands are deprecated. Please use find_element() instead\n",
      "  jangre = driver.find_element_by_css_selector('div:nth-child(1) > div.title-info.visible-xs.visible-sm > div:nth-child(3) > div.detail-infos__value').text # 장르\n",
      "<ipython-input-48-722a06956379>:47: DeprecationWarning: find_element_by_* commands are deprecated. Please use find_element() instead\n",
      "  director=driver.find_element_by_css_selector('div:nth-child(1) > div.title-info.visible-xs.visible-sm > div:nth-child(5) > div.detail-infos__value').text\n",
      "<ipython-input-48-722a06956379>:52: DeprecationWarning: find_element_by_* commands are deprecated. Please use find_element() instead\n",
      "  movieTime = driver.find_element_by_css_selector('div:nth-child(1) > div.title-info.visible-xs.visible-sm > div:nth-child(4) > div.detail-infos__value').text # 상영시간\n",
      "<ipython-input-48-722a06956379>:57: DeprecationWarning: find_element_by_* commands are deprecated. Please use find_element() instead\n",
      "  story = driver.find_element_by_css_selector('div:nth-child(4) > p > span').text # 영화소개\n",
      "<ipython-input-48-722a06956379>:71: DeprecationWarning: find_element_by_* commands are deprecated. Please use find_element() instead\n",
      "  actor = driver.find_element_by_css_selector('div:nth-child(2) > div:nth-child(6) > div:nth-child(1) > div.hidden-horizontal-scrollbar.title-credits > div > div:nth-child({}) > a'.format(i+1)).text\n"
     ]
    }
   ],
   "source": [
    "# 최종 로직\n",
    "#except NoSuchElementException:\n",
    "#    director=driver.find_element_by_css_selector('#base > div.jw-info-box > div > div.jw-info-box__container-content > div:nth-child(2) > div:nth-child(5) > div:nth-child(1) > div.title-info.visible-xs.visible-sm > div:nth-child(5) > div.detail-infos__value > span > a').text\n",
    "#except ? 가 잘 안됨\n",
    "    \n",
    "driver = wb.Chrome('C:/Users/smhrd/Desktop/PythonStudy/크롤링/chromedriver.exe')\n",
    "# 넷플릭스, 웨이브, 왓챠, 네이버스토어, 구글앱스토어 평점 7점이상 작품링크\n",
    "driver.get('https://www.justwatch.com/kr/%EC%98%81%ED%99%94?providers=nfx,nvs,ply,wac,wav&rating_imdb=7')\n",
    "body = driver.find_element_by_tag_name('body')\n",
    "\n",
    "name_list = [] # 영화제목\n",
    "openShow_list = [] # 개봉일\n",
    "jangre_list = [] # 장르\n",
    "director_list = [] #감독\n",
    "movieTime_list = [] # 상영시간\n",
    "story_list = [] # 작품소개\n",
    "streaming_list=[]  #  스트리밍\n",
    "img_list=[] #이미지\n",
    "actor_list=[] # 배우\n",
    "\n",
    "\n",
    "time.sleep(3)\n",
    "for i in tq(range(700)):\n",
    "    img = driver.find_elements_by_css_selector(\"a > div.title-poster\")\n",
    "    img[i].click()\n",
    "    time.sleep(7)\n",
    "    req = driver.page_source\n",
    "    soup = bs(req,'lxml')\n",
    "    \n",
    "    # 2차원 리스트를 위한 배열 \n",
    "    line=[] \n",
    "    line2=[] \n",
    "    line3 =[]\n",
    "    streaming_li=None # 값 초기화\n",
    "    rent_ti=None # 값 초기화\n",
    "    \n",
    "    name = driver.find_element_by_css_selector('div.title-block > div > h1').text # 제목\n",
    "    openShow = driver.find_element_by_css_selector('div.title-block > div > span').text #개봉년도\n",
    "    # 특정 작품만 못가져옴\n",
    "    # 왜인지는 모름\n",
    "    try : \n",
    "        jangre = driver.find_element_by_css_selector('div:nth-child(1) > div.title-info.visible-xs.visible-sm > div:nth-child(3) > div.detail-infos__value').text # 장르\n",
    "    except NoSuchElementException:\n",
    "        jangre = \"현재시각 오전4시23분\"\n",
    "        \n",
    "    try:\n",
    "        director=driver.find_element_by_css_selector('div:nth-child(1) > div.title-info.visible-xs.visible-sm > div:nth-child(5) > div.detail-infos__value').text\n",
    "    except NoSuchElementException:\n",
    "        director=\"모르겠다\"\n",
    "   \n",
    "    try : \n",
    "        movieTime = driver.find_element_by_css_selector('div:nth-child(1) > div.title-info.visible-xs.visible-sm > div:nth-child(4) > div.detail-infos__value').text # 상영시간\n",
    "    except NoSuchElementException:\n",
    "        movieTime = \"못가져옴\"\n",
    "        \n",
    "    try:\n",
    "        story = driver.find_element_by_css_selector('div:nth-child(4) > p > span').text # 영화소개\n",
    "    except NoSuchElementException:\n",
    "        story = \"왜못가져옴?\"\n",
    "    \n",
    "    rent_L = soup.find_all('picture','provider-icon') # 사이트\n",
    "    img = soup.find('picture','picture-comp title-poster__image').find('img')['data-src'] #이미지\n",
    "\n",
    "    # 스트리밍 플랫폼\n",
    "    for j in range(len(rent_L)):\n",
    "        streaming_li=rent_L[j].find('img')['title']\n",
    "        line.append(streaming_li)\n",
    "    result = set(line) # set(list) 중복제거\n",
    "    try:\n",
    "        for i in range(4):\n",
    "            actor = driver.find_element_by_css_selector('div:nth-child(2) > div:nth-child(6) > div:nth-child(1) > div.hidden-horizontal-scrollbar.title-credits > div > div:nth-child({}) > a'.format(i+1)).text\n",
    "            line3.append(actor)\n",
    "    except:\n",
    "        actor = '없거나 오류'\n",
    "    \n",
    "    name_list.append(name)\n",
    "    openShow_list.append(openShow)\n",
    "    jangre_list.append(jangre)\n",
    "    story_list.append(story)\n",
    "    director_list.append(director)\n",
    "    streaming_list.append(result)\n",
    "    movieTime_list.append(movieTime)\n",
    "    actor_list.append(line3)\n",
    "    img_list.append(img)\n",
    "    urlretrieve(img,\"C:/Users/smhrd/Desktop/MoviePoster/\"+str(i+1)+\".jpg\")\n",
    "    time.sleep(7)\n",
    "    \n",
    "    driver.back()\n",
    "    time.sleep(7)\n",
    "\n",
    "# 크롤링은 한번에 할려하면 데이터 충돌? 일어나는듯?"
   ]
  },
  {
   "cell_type": "code",
   "execution_count": null,
   "id": "7582ed15",
   "metadata": {},
   "outputs": [],
   "source": []
  },
  {
   "cell_type": "code",
   "execution_count": null,
   "id": "7176980e",
   "metadata": {},
   "outputs": [],
   "source": []
  },
  {
   "cell_type": "code",
   "execution_count": null,
   "id": "2dd3dfce",
   "metadata": {},
   "outputs": [],
   "source": []
  },
  {
   "cell_type": "code",
   "execution_count": 49,
   "id": "875dec7a",
   "metadata": {},
   "outputs": [],
   "source": [
    "dic = {'영화제목':name_list,'개봉일자':openShow_list,'장르':jangre_list,'감독':director_list,'배우':actor_list,'상영시간':movieTime_list,'작품소개':story_list,'제공사이트':streaming_list,'이미지링크':img_list}\n",
    "# name_list = [] 영화제목\n",
    "# openShow_list = [] 개봉일\n",
    "# jangre_list = [] 장르\n",
    "# director_list = [] 감독\n",
    "# movieTime_list = [] 상영시간\n",
    "# story_list = [] 작품소개\n",
    "# streaming_list=[] 스트리밍\n",
    "# rent_title_list=[] 제공중인 플랫폼\n",
    "# img_list=[] #이미지"
   ]
  },
  {
   "cell_type": "code",
   "execution_count": 50,
   "id": "c2c101fc",
   "metadata": {},
   "outputs": [],
   "source": [
    "df=pd.DataFrame(dic)\n"
   ]
  },
  {
   "cell_type": "code",
   "execution_count": 51,
   "id": "7c5b65c6",
   "metadata": {},
   "outputs": [],
   "source": [
    "df.to_csv('최종.csv', encoding='utf-8-sig', index=False)\n"
   ]
  },
  {
   "cell_type": "code",
   "execution_count": 2,
   "id": "af4d1b19",
   "metadata": {},
   "outputs": [
    {
     "data": {
      "text/html": [
       "<div>\n",
       "<style scoped>\n",
       "    .dataframe tbody tr th:only-of-type {\n",
       "        vertical-align: middle;\n",
       "    }\n",
       "\n",
       "    .dataframe tbody tr th {\n",
       "        vertical-align: top;\n",
       "    }\n",
       "\n",
       "    .dataframe thead th {\n",
       "        text-align: right;\n",
       "    }\n",
       "</style>\n",
       "<table border=\"1\" class=\"dataframe\">\n",
       "  <thead>\n",
       "    <tr style=\"text-align: right;\">\n",
       "      <th></th>\n",
       "      <th>영화제목</th>\n",
       "      <th>개봉일자</th>\n",
       "      <th>장르</th>\n",
       "      <th>감독</th>\n",
       "      <th>배우</th>\n",
       "      <th>상영시간</th>\n",
       "      <th>작품소개</th>\n",
       "      <th>제공사이트</th>\n",
       "      <th>이미지링크</th>\n",
       "    </tr>\n",
       "  </thead>\n",
       "  <tbody>\n",
       "    <tr>\n",
       "      <th>0</th>\n",
       "      <td>모가디슈</td>\n",
       "      <td>(2021)</td>\n",
       "      <td>액션 , 드라마 , 스릴러</td>\n",
       "      <td>Ryoo Seung-wan</td>\n",
       "      <td>['Kim Yoon-seok', 'Jo In-sung', 'Heo Joon-ho',...</td>\n",
       "      <td>2시간 1분</td>\n",
       "      <td>유엔 가입을 위해 다수의 투표권을 지닌 아프리카 대륙에서 열심히 외교 활동을 벌이던...</td>\n",
       "      <td>{'Naver Store', 'Google Play Movies', 'wavve'}</td>\n",
       "      <td>https://images.justwatch.com/poster/247509899/...</td>\n",
       "    </tr>\n",
       "    <tr>\n",
       "      <th>1</th>\n",
       "      <td>프리 가이</td>\n",
       "      <td>(2021)</td>\n",
       "      <td>SF , 액션 , 코미디 , 판타지</td>\n",
       "      <td>Shawn Levy</td>\n",
       "      <td>['Ryan Reynolds', 'Jodie Comer', 'Joe Keery', ...</td>\n",
       "      <td>1시간 55분</td>\n",
       "      <td>평범한 직장, 절친 그리고 한 잔의 커피. 평화로운 일상 속 때론 총격전과 날강도가...</td>\n",
       "      <td>{'Naver Store', 'wavve', 'Google Play Movies'}</td>\n",
       "      <td>https://images.justwatch.com/poster/253033499/...</td>\n",
       "    </tr>\n",
       "    <tr>\n",
       "      <th>2</th>\n",
       "      <td>타임 패러독스</td>\n",
       "      <td>(2014)</td>\n",
       "      <td>SF , 스릴러 , 범죄 , 액션 , 드라마</td>\n",
       "      <td>Peter Spierig , Michael Spierig</td>\n",
       "      <td>['Ethan Hawke', 'Sarah Snook', 'Noah Taylor', ...</td>\n",
       "      <td>1시간 37분</td>\n",
       "      <td>뉴욕을 초토화시킨 폭파 사건으로 대규모 사상자가 발생한다. 용의자 피즐 폭파범을 잡...</td>\n",
       "      <td>{'Naver Store', 'wavve'}</td>\n",
       "      <td>https://images.justwatch.com/poster/188268532/...</td>\n",
       "    </tr>\n",
       "    <tr>\n",
       "      <th>3</th>\n",
       "      <td>컨택트</td>\n",
       "      <td>(2016)</td>\n",
       "      <td>드라마 , SF , 스릴러</td>\n",
       "      <td>Denis Villeneuve</td>\n",
       "      <td>['Amy Adams', 'Jeremy Renner', 'Forest Whitake...</td>\n",
       "      <td>1시간 56분</td>\n",
       "      <td>어느 날 전 세계 12개 지역에 외계 비행물체 셸이 동시다발로 출현한다. 450m에...</td>\n",
       "      <td>{'Naver Store', 'Watcha', 'wavve', 'Google Pla...</td>\n",
       "      <td>https://images.justwatch.com/poster/130964237/...</td>\n",
       "    </tr>\n",
       "    <tr>\n",
       "      <th>4</th>\n",
       "      <td>듄</td>\n",
       "      <td>(2021)</td>\n",
       "      <td>SF , 스릴러 , 드라마 , 액션</td>\n",
       "      <td>Denis Villeneuve</td>\n",
       "      <td>['Timothée Chalamet', 'Rebecca Ferguson', 'Osc...</td>\n",
       "      <td>2시간 35분</td>\n",
       "      <td>10191년, 아트레이데스 가문의 후계자인 폴은 시간과 공간을 초월해 과거와 미래를...</td>\n",
       "      <td>{'Google Play Movies', 'wavve'}</td>\n",
       "      <td>https://images.justwatch.com/poster/251148698/...</td>\n",
       "    </tr>\n",
       "    <tr>\n",
       "      <th>...</th>\n",
       "      <td>...</td>\n",
       "      <td>...</td>\n",
       "      <td>...</td>\n",
       "      <td>...</td>\n",
       "      <td>...</td>\n",
       "      <td>...</td>\n",
       "      <td>...</td>\n",
       "      <td>...</td>\n",
       "      <td>...</td>\n",
       "    </tr>\n",
       "    <tr>\n",
       "      <th>695</th>\n",
       "      <td>로스트 하이웨이</td>\n",
       "      <td>(1997)</td>\n",
       "      <td>스릴러 , 드라마 , Made in Europe</td>\n",
       "      <td>David Lynch</td>\n",
       "      <td>[]</td>\n",
       "      <td>2시간 14분</td>\n",
       "      <td>아름다운 아내와 살고 있는 성공한 뮤지션. 그러나 그들의 결혼 생활은 일종의 침체상...</td>\n",
       "      <td>{'Google Play Movies', 'wavve'}</td>\n",
       "      <td>https://images.justwatch.com/poster/8927858/s592</td>\n",
       "    </tr>\n",
       "    <tr>\n",
       "      <th>696</th>\n",
       "      <td>1984</td>\n",
       "      <td>(1984)</td>\n",
       "      <td>드라마 , 스릴러 , 판타지 , SF</td>\n",
       "      <td>Michael Radford</td>\n",
       "      <td>[]</td>\n",
       "      <td>1시간 53분</td>\n",
       "      <td>오세아니아 지도자들은 국민들을 지배하기 위해 대형당을 조직해 사람들을 통제 감시한다...</td>\n",
       "      <td>{'wavve'}</td>\n",
       "      <td>https://images.justwatch.com/poster/129481402/...</td>\n",
       "    </tr>\n",
       "    <tr>\n",
       "      <th>697</th>\n",
       "      <td>엑스 파일: 미래와의 전쟁</td>\n",
       "      <td>(1998)</td>\n",
       "      <td>스릴러 , SF , 드라마</td>\n",
       "      <td>Rob Bowman</td>\n",
       "      <td>[]</td>\n",
       "      <td>2시간 1분</td>\n",
       "      <td>달라스의 한 빌딩에서 이상한 폭발 사고가 발생한다. FBI의 특수 요원 멀더(데이빗...</td>\n",
       "      <td>{'Naver Store', 'Disney Plus', 'wavve'}</td>\n",
       "      <td>https://images.justwatch.com/poster/19632368/s592</td>\n",
       "    </tr>\n",
       "    <tr>\n",
       "      <th>698</th>\n",
       "      <td>007 골드핑거</td>\n",
       "      <td>(1964)</td>\n",
       "      <td>스릴러 , 액션</td>\n",
       "      <td>Guy Hamilton</td>\n",
       "      <td>[]</td>\n",
       "      <td>1시간 50분</td>\n",
       "      <td>영국 국적의 골드핑거는 정식 금매매업자이며 국제 보석상이다. 그가 보유하고 있는 상...</td>\n",
       "      <td>{'wavve'}</td>\n",
       "      <td>https://images.justwatch.com/poster/8670155/s592</td>\n",
       "    </tr>\n",
       "    <tr>\n",
       "      <th>699</th>\n",
       "      <td>스트레인저 댄 픽션</td>\n",
       "      <td>(2006)</td>\n",
       "      <td>코미디 , 드라마 , 판타지 , 로맨스</td>\n",
       "      <td>Marc Forster</td>\n",
       "      <td>['Will Ferrell', 'Maggie Gyllenhaal', 'Dustin ...</td>\n",
       "      <td>1시간 53분</td>\n",
       "      <td>단조롭고 평범한 일상의 국세청 직원 헤롤드 크릭. 어느 날, 그는 자신의 머리 안에...</td>\n",
       "      <td>{'Naver Store', 'wavve'}</td>\n",
       "      <td>https://images.justwatch.com/poster/176318323/...</td>\n",
       "    </tr>\n",
       "  </tbody>\n",
       "</table>\n",
       "<p>700 rows × 9 columns</p>\n",
       "</div>"
      ],
      "text/plain": [
       "               영화제목    개봉일자                          장르  \\\n",
       "0              모가디슈  (2021)              액션 , 드라마 , 스릴러   \n",
       "1             프리 가이  (2021)         SF , 액션 , 코미디 , 판타지   \n",
       "2           타임 패러독스  (2014)    SF , 스릴러 , 범죄 , 액션 , 드라마   \n",
       "3               컨택트  (2016)              드라마 , SF , 스릴러   \n",
       "4                 듄  (2021)         SF , 스릴러 , 드라마 , 액션   \n",
       "..              ...     ...                         ...   \n",
       "695        로스트 하이웨이  (1997)  스릴러 , 드라마 , Made in Europe   \n",
       "696            1984  (1984)        드라마 , 스릴러 , 판타지 , SF   \n",
       "697  엑스 파일: 미래와의 전쟁  (1998)              스릴러 , SF , 드라마   \n",
       "698        007 골드핑거  (1964)                    스릴러 , 액션   \n",
       "699      스트레인저 댄 픽션  (2006)       코미디 , 드라마 , 판타지 , 로맨스   \n",
       "\n",
       "                                  감독  \\\n",
       "0                     Ryoo Seung-wan   \n",
       "1                         Shawn Levy   \n",
       "2    Peter Spierig , Michael Spierig   \n",
       "3                   Denis Villeneuve   \n",
       "4                   Denis Villeneuve   \n",
       "..                               ...   \n",
       "695                      David Lynch   \n",
       "696                  Michael Radford   \n",
       "697                       Rob Bowman   \n",
       "698                     Guy Hamilton   \n",
       "699                     Marc Forster   \n",
       "\n",
       "                                                    배우     상영시간  \\\n",
       "0    ['Kim Yoon-seok', 'Jo In-sung', 'Heo Joon-ho',...   2시간 1분   \n",
       "1    ['Ryan Reynolds', 'Jodie Comer', 'Joe Keery', ...  1시간 55분   \n",
       "2    ['Ethan Hawke', 'Sarah Snook', 'Noah Taylor', ...  1시간 37분   \n",
       "3    ['Amy Adams', 'Jeremy Renner', 'Forest Whitake...  1시간 56분   \n",
       "4    ['Timothée Chalamet', 'Rebecca Ferguson', 'Osc...  2시간 35분   \n",
       "..                                                 ...      ...   \n",
       "695                                                 []  2시간 14분   \n",
       "696                                                 []  1시간 53분   \n",
       "697                                                 []   2시간 1분   \n",
       "698                                                 []  1시간 50분   \n",
       "699  ['Will Ferrell', 'Maggie Gyllenhaal', 'Dustin ...  1시간 53분   \n",
       "\n",
       "                                                  작품소개  \\\n",
       "0    유엔 가입을 위해 다수의 투표권을 지닌 아프리카 대륙에서 열심히 외교 활동을 벌이던...   \n",
       "1    평범한 직장, 절친 그리고 한 잔의 커피. 평화로운 일상 속 때론 총격전과 날강도가...   \n",
       "2    뉴욕을 초토화시킨 폭파 사건으로 대규모 사상자가 발생한다. 용의자 피즐 폭파범을 잡...   \n",
       "3    어느 날 전 세계 12개 지역에 외계 비행물체 셸이 동시다발로 출현한다. 450m에...   \n",
       "4    10191년, 아트레이데스 가문의 후계자인 폴은 시간과 공간을 초월해 과거와 미래를...   \n",
       "..                                                 ...   \n",
       "695  아름다운 아내와 살고 있는 성공한 뮤지션. 그러나 그들의 결혼 생활은 일종의 침체상...   \n",
       "696  오세아니아 지도자들은 국민들을 지배하기 위해 대형당을 조직해 사람들을 통제 감시한다...   \n",
       "697  달라스의 한 빌딩에서 이상한 폭발 사고가 발생한다. FBI의 특수 요원 멀더(데이빗...   \n",
       "698  영국 국적의 골드핑거는 정식 금매매업자이며 국제 보석상이다. 그가 보유하고 있는 상...   \n",
       "699  단조롭고 평범한 일상의 국세청 직원 헤롤드 크릭. 어느 날, 그는 자신의 머리 안에...   \n",
       "\n",
       "                                                 제공사이트  \\\n",
       "0       {'Naver Store', 'Google Play Movies', 'wavve'}   \n",
       "1       {'Naver Store', 'wavve', 'Google Play Movies'}   \n",
       "2                             {'Naver Store', 'wavve'}   \n",
       "3    {'Naver Store', 'Watcha', 'wavve', 'Google Pla...   \n",
       "4                      {'Google Play Movies', 'wavve'}   \n",
       "..                                                 ...   \n",
       "695                    {'Google Play Movies', 'wavve'}   \n",
       "696                                          {'wavve'}   \n",
       "697            {'Naver Store', 'Disney Plus', 'wavve'}   \n",
       "698                                          {'wavve'}   \n",
       "699                           {'Naver Store', 'wavve'}   \n",
       "\n",
       "                                                 이미지링크  \n",
       "0    https://images.justwatch.com/poster/247509899/...  \n",
       "1    https://images.justwatch.com/poster/253033499/...  \n",
       "2    https://images.justwatch.com/poster/188268532/...  \n",
       "3    https://images.justwatch.com/poster/130964237/...  \n",
       "4    https://images.justwatch.com/poster/251148698/...  \n",
       "..                                                 ...  \n",
       "695   https://images.justwatch.com/poster/8927858/s592  \n",
       "696  https://images.justwatch.com/poster/129481402/...  \n",
       "697  https://images.justwatch.com/poster/19632368/s592  \n",
       "698   https://images.justwatch.com/poster/8670155/s592  \n",
       "699  https://images.justwatch.com/poster/176318323/...  \n",
       "\n",
       "[700 rows x 9 columns]"
      ]
     },
     "execution_count": 2,
     "metadata": {},
     "output_type": "execute_result"
    }
   ],
   "source": [
    "pd.read_csv('최종.csv')"
   ]
  },
  {
   "cell_type": "code",
   "execution_count": null,
   "id": "732c7092",
   "metadata": {},
   "outputs": [],
   "source": []
  },
  {
   "cell_type": "code",
   "execution_count": null,
   "id": "4dbd647b",
   "metadata": {},
   "outputs": [],
   "source": []
  },
  {
   "cell_type": "code",
   "execution_count": null,
   "id": "3d74da6f",
   "metadata": {},
   "outputs": [],
   "source": []
  },
  {
   "cell_type": "code",
   "execution_count": 237,
   "id": "d2e26316",
   "metadata": {
    "collapsed": true
   },
   "outputs": [
    {
     "name": "stderr",
     "output_type": "stream",
     "text": [
      "<ipython-input-237-8bafc42a9438>:3: DeprecationWarning: executable_path has been deprecated, please pass in a Service object\n",
      "  driver = wb.Chrome('C:/Users/smhrd/Desktop/PythonStudy/크롤링/chromedriver.exe')\n",
      "<ipython-input-237-8bafc42a9438>:6: DeprecationWarning: find_element_by_* commands are deprecated. Please use find_element() instead\n",
      "  body = driver.find_element_by_tag_name('body')\n"
     ]
    },
    {
     "ename": "NoSuchWindowException",
     "evalue": "Message: no such window: window was already closed\n  (Session info: chrome=95.0.4638.69)\nStacktrace:\nBacktrace:\n\tOrdinal0 [0x00973AB3+2505395]\n\tOrdinal0 [0x0090AE41+2076225]\n\tOrdinal0 [0x00812498+1057944]\n\tOrdinal0 [0x008083F8+1016824]\n\tOrdinal0 [0x00809355+1020757]\n\tOrdinal0 [0x00803463+996451]\n\tOrdinal0 [0x008136B0+1062576]\n\tOrdinal0 [0x00864902+1394946]\n\tOrdinal0 [0x008558BB+1333435]\n\tOrdinal0 [0x008323E4+1188836]\n\tOrdinal0 [0x0083323F+1192511]\n\tGetHandleVerifier [0x00AFCB36+1554566]\n\tGetHandleVerifier [0x00BA4A0C+2242396]\n\tGetHandleVerifier [0x00A00E0B+523099]\n\tGetHandleVerifier [0x009FFEB0+519168]\n\tOrdinal0 [0x009102FD+2097917]\n\tOrdinal0 [0x00914388+2114440]\n\tOrdinal0 [0x009144C2+2114754]\n\tOrdinal0 [0x0091E041+2154561]\n\tBaseThreadInitThunk [0x7706FA29+25]\n\tRtlGetAppContainerNamedObjectPath [0x774A7A9E+286]\n\tRtlGetAppContainerNamedObjectPath [0x774A7A6E+238]\n",
     "output_type": "error",
     "traceback": [
      "\u001b[1;31m---------------------------------------------------------------------------\u001b[0m",
      "\u001b[1;31mNoSuchWindowException\u001b[0m                     Traceback (most recent call last)",
      "\u001b[1;32m<ipython-input-237-8bafc42a9438>\u001b[0m in \u001b[0;36m<module>\u001b[1;34m\u001b[0m\n\u001b[0;32m      4\u001b[0m \u001b[1;31m# 넷플릭스, 웨이브, 왓챠, 네이버스토어, 구글앱스토어 평점 7점이상 작품링크\u001b[0m\u001b[1;33m\u001b[0m\u001b[1;33m\u001b[0m\u001b[1;33m\u001b[0m\u001b[0m\n\u001b[0;32m      5\u001b[0m \u001b[0mdriver\u001b[0m\u001b[1;33m.\u001b[0m\u001b[0mget\u001b[0m\u001b[1;33m(\u001b[0m\u001b[1;34m'https://www.justwatch.com/kr/%EC%98%81%ED%99%94?providers=nfx,nvs,ply,wac,wav&rating_imdb=7'\u001b[0m\u001b[1;33m)\u001b[0m\u001b[1;33m\u001b[0m\u001b[1;33m\u001b[0m\u001b[0m\n\u001b[1;32m----> 6\u001b[1;33m \u001b[0mbody\u001b[0m \u001b[1;33m=\u001b[0m \u001b[0mdriver\u001b[0m\u001b[1;33m.\u001b[0m\u001b[0mfind_element_by_tag_name\u001b[0m\u001b[1;33m(\u001b[0m\u001b[1;34m'body'\u001b[0m\u001b[1;33m)\u001b[0m\u001b[1;33m\u001b[0m\u001b[1;33m\u001b[0m\u001b[0m\n\u001b[0m\u001b[0;32m      7\u001b[0m \u001b[1;33m\u001b[0m\u001b[0m\n\u001b[0;32m      8\u001b[0m \u001b[0mname_list\u001b[0m \u001b[1;33m=\u001b[0m \u001b[1;33m[\u001b[0m\u001b[1;33m]\u001b[0m \u001b[1;31m# 영화제목\u001b[0m\u001b[1;33m\u001b[0m\u001b[1;33m\u001b[0m\u001b[0m\n",
      "\u001b[1;32m~\\anaconda3\\lib\\site-packages\\selenium\\webdriver\\remote\\webdriver.py\u001b[0m in \u001b[0;36mfind_element_by_tag_name\u001b[1;34m(self, name)\u001b[0m\n\u001b[0;32m    704\u001b[0m             \u001b[0mstacklevel\u001b[0m\u001b[1;33m=\u001b[0m\u001b[1;36m2\u001b[0m\u001b[1;33m,\u001b[0m\u001b[1;33m\u001b[0m\u001b[1;33m\u001b[0m\u001b[0m\n\u001b[0;32m    705\u001b[0m         )\n\u001b[1;32m--> 706\u001b[1;33m         \u001b[1;32mreturn\u001b[0m \u001b[0mself\u001b[0m\u001b[1;33m.\u001b[0m\u001b[0mfind_element\u001b[0m\u001b[1;33m(\u001b[0m\u001b[0mby\u001b[0m\u001b[1;33m=\u001b[0m\u001b[0mBy\u001b[0m\u001b[1;33m.\u001b[0m\u001b[0mTAG_NAME\u001b[0m\u001b[1;33m,\u001b[0m \u001b[0mvalue\u001b[0m\u001b[1;33m=\u001b[0m\u001b[0mname\u001b[0m\u001b[1;33m)\u001b[0m\u001b[1;33m\u001b[0m\u001b[1;33m\u001b[0m\u001b[0m\n\u001b[0m\u001b[0;32m    707\u001b[0m \u001b[1;33m\u001b[0m\u001b[0m\n\u001b[0;32m    708\u001b[0m     \u001b[1;32mdef\u001b[0m \u001b[0mfind_elements_by_tag_name\u001b[0m\u001b[1;33m(\u001b[0m\u001b[0mself\u001b[0m\u001b[1;33m,\u001b[0m \u001b[0mname\u001b[0m\u001b[1;33m)\u001b[0m \u001b[1;33m->\u001b[0m \u001b[0mWebElement\u001b[0m\u001b[1;33m:\u001b[0m\u001b[1;33m\u001b[0m\u001b[1;33m\u001b[0m\u001b[0m\n",
      "\u001b[1;32m~\\anaconda3\\lib\\site-packages\\selenium\\webdriver\\remote\\webdriver.py\u001b[0m in \u001b[0;36mfind_element\u001b[1;34m(self, by, value)\u001b[0m\n\u001b[0;32m   1236\u001b[0m             \u001b[0mvalue\u001b[0m \u001b[1;33m=\u001b[0m \u001b[1;34m'[name=\"%s\"]'\u001b[0m \u001b[1;33m%\u001b[0m \u001b[0mvalue\u001b[0m\u001b[1;33m\u001b[0m\u001b[1;33m\u001b[0m\u001b[0m\n\u001b[0;32m   1237\u001b[0m \u001b[1;33m\u001b[0m\u001b[0m\n\u001b[1;32m-> 1238\u001b[1;33m         return self.execute(Command.FIND_ELEMENT, {\n\u001b[0m\u001b[0;32m   1239\u001b[0m             \u001b[1;34m'using'\u001b[0m\u001b[1;33m:\u001b[0m \u001b[0mby\u001b[0m\u001b[1;33m,\u001b[0m\u001b[1;33m\u001b[0m\u001b[1;33m\u001b[0m\u001b[0m\n\u001b[0;32m   1240\u001b[0m             'value': value})['value']\n",
      "\u001b[1;32m~\\anaconda3\\lib\\site-packages\\selenium\\webdriver\\remote\\webdriver.py\u001b[0m in \u001b[0;36mexecute\u001b[1;34m(self, driver_command, params)\u001b[0m\n\u001b[0;32m    416\u001b[0m         \u001b[0mresponse\u001b[0m \u001b[1;33m=\u001b[0m \u001b[0mself\u001b[0m\u001b[1;33m.\u001b[0m\u001b[0mcommand_executor\u001b[0m\u001b[1;33m.\u001b[0m\u001b[0mexecute\u001b[0m\u001b[1;33m(\u001b[0m\u001b[0mdriver_command\u001b[0m\u001b[1;33m,\u001b[0m \u001b[0mparams\u001b[0m\u001b[1;33m)\u001b[0m\u001b[1;33m\u001b[0m\u001b[1;33m\u001b[0m\u001b[0m\n\u001b[0;32m    417\u001b[0m         \u001b[1;32mif\u001b[0m \u001b[0mresponse\u001b[0m\u001b[1;33m:\u001b[0m\u001b[1;33m\u001b[0m\u001b[1;33m\u001b[0m\u001b[0m\n\u001b[1;32m--> 418\u001b[1;33m             \u001b[0mself\u001b[0m\u001b[1;33m.\u001b[0m\u001b[0merror_handler\u001b[0m\u001b[1;33m.\u001b[0m\u001b[0mcheck_response\u001b[0m\u001b[1;33m(\u001b[0m\u001b[0mresponse\u001b[0m\u001b[1;33m)\u001b[0m\u001b[1;33m\u001b[0m\u001b[1;33m\u001b[0m\u001b[0m\n\u001b[0m\u001b[0;32m    419\u001b[0m             response['value'] = self._unwrap_value(\n\u001b[0;32m    420\u001b[0m                 response.get('value', None))\n",
      "\u001b[1;32m~\\anaconda3\\lib\\site-packages\\selenium\\webdriver\\remote\\errorhandler.py\u001b[0m in \u001b[0;36mcheck_response\u001b[1;34m(self, response)\u001b[0m\n\u001b[0;32m    241\u001b[0m                 \u001b[0malert_text\u001b[0m \u001b[1;33m=\u001b[0m \u001b[0mvalue\u001b[0m\u001b[1;33m[\u001b[0m\u001b[1;34m'alert'\u001b[0m\u001b[1;33m]\u001b[0m\u001b[1;33m.\u001b[0m\u001b[0mget\u001b[0m\u001b[1;33m(\u001b[0m\u001b[1;34m'text'\u001b[0m\u001b[1;33m)\u001b[0m\u001b[1;33m\u001b[0m\u001b[1;33m\u001b[0m\u001b[0m\n\u001b[0;32m    242\u001b[0m             \u001b[1;32mraise\u001b[0m \u001b[0mexception_class\u001b[0m\u001b[1;33m(\u001b[0m\u001b[0mmessage\u001b[0m\u001b[1;33m,\u001b[0m \u001b[0mscreen\u001b[0m\u001b[1;33m,\u001b[0m \u001b[0mstacktrace\u001b[0m\u001b[1;33m,\u001b[0m \u001b[0malert_text\u001b[0m\u001b[1;33m)\u001b[0m  \u001b[1;31m# type: ignore[call-arg]  # mypy is not smart enough here\u001b[0m\u001b[1;33m\u001b[0m\u001b[1;33m\u001b[0m\u001b[0m\n\u001b[1;32m--> 243\u001b[1;33m         \u001b[1;32mraise\u001b[0m \u001b[0mexception_class\u001b[0m\u001b[1;33m(\u001b[0m\u001b[0mmessage\u001b[0m\u001b[1;33m,\u001b[0m \u001b[0mscreen\u001b[0m\u001b[1;33m,\u001b[0m \u001b[0mstacktrace\u001b[0m\u001b[1;33m)\u001b[0m\u001b[1;33m\u001b[0m\u001b[1;33m\u001b[0m\u001b[0m\n\u001b[0m\u001b[0;32m    244\u001b[0m \u001b[1;33m\u001b[0m\u001b[0m\n\u001b[0;32m    245\u001b[0m     \u001b[1;32mdef\u001b[0m \u001b[0m_value_or_default\u001b[0m\u001b[1;33m(\u001b[0m\u001b[0mself\u001b[0m\u001b[1;33m,\u001b[0m \u001b[0mobj\u001b[0m\u001b[1;33m:\u001b[0m \u001b[0mMapping\u001b[0m\u001b[1;33m[\u001b[0m\u001b[0m_KT\u001b[0m\u001b[1;33m,\u001b[0m \u001b[0m_VT\u001b[0m\u001b[1;33m]\u001b[0m\u001b[1;33m,\u001b[0m \u001b[0mkey\u001b[0m\u001b[1;33m:\u001b[0m \u001b[0m_KT\u001b[0m\u001b[1;33m,\u001b[0m \u001b[0mdefault\u001b[0m\u001b[1;33m:\u001b[0m \u001b[0m_VT\u001b[0m\u001b[1;33m)\u001b[0m \u001b[1;33m->\u001b[0m \u001b[0m_VT\u001b[0m\u001b[1;33m:\u001b[0m\u001b[1;33m\u001b[0m\u001b[1;33m\u001b[0m\u001b[0m\n",
      "\u001b[1;31mNoSuchWindowException\u001b[0m: Message: no such window: window was already closed\n  (Session info: chrome=95.0.4638.69)\nStacktrace:\nBacktrace:\n\tOrdinal0 [0x00973AB3+2505395]\n\tOrdinal0 [0x0090AE41+2076225]\n\tOrdinal0 [0x00812498+1057944]\n\tOrdinal0 [0x008083F8+1016824]\n\tOrdinal0 [0x00809355+1020757]\n\tOrdinal0 [0x00803463+996451]\n\tOrdinal0 [0x008136B0+1062576]\n\tOrdinal0 [0x00864902+1394946]\n\tOrdinal0 [0x008558BB+1333435]\n\tOrdinal0 [0x008323E4+1188836]\n\tOrdinal0 [0x0083323F+1192511]\n\tGetHandleVerifier [0x00AFCB36+1554566]\n\tGetHandleVerifier [0x00BA4A0C+2242396]\n\tGetHandleVerifier [0x00A00E0B+523099]\n\tGetHandleVerifier [0x009FFEB0+519168]\n\tOrdinal0 [0x009102FD+2097917]\n\tOrdinal0 [0x00914388+2114440]\n\tOrdinal0 [0x009144C2+2114754]\n\tOrdinal0 [0x0091E041+2154561]\n\tBaseThreadInitThunk [0x7706FA29+25]\n\tRtlGetAppContainerNamedObjectPath [0x774A7A9E+286]\n\tRtlGetAppContainerNamedObjectPath [0x774A7A6E+238]\n"
     ]
    }
   ],
   "source": [
    "# 테스트\n",
    "# 최종 로직\n",
    "driver = wb.Chrome('C:/Users/smhrd/Desktop/PythonStudy/크롤링/chromedriver.exe')\n",
    "# 넷플릭스, 웨이브, 왓챠, 네이버스토어, 구글앱스토어 평점 7점이상 작품링크\n",
    "driver.get('https://www.justwatch.com/kr/%EC%98%81%ED%99%94?providers=nfx,nvs,ply,wac,wav&rating_imdb=7')\n",
    "body = driver.find_element_by_tag_name('body')\n",
    "\n",
    "name_list = [] # 영화제목\n",
    "openShow_list = [] # 개봉일\n",
    "jangre_list = [] # 장르\n",
    "movieTime_list = [] # 상영시간\n",
    "story_list = [] # 작품소개\n",
    "link_list = [] # 링크 \n",
    "streaming_list=[]  #  스트리밍\n",
    "rent_title_list=[] # 제공중인 플랫폼\n",
    "img_list=[] #이미지\n",
    "\n",
    "# 2차원 리스트를 위한 배열 \n",
    "line=[] \n",
    "line2=[] \n",
    "line3 =[]\n",
    "\n",
    "for i in tq(range(20)):\n",
    "    img = driver.find_elements_by_css_selector(\"a > div.title-poster\")\n",
    "    img[i].click()\n",
    "    time.sleep(5)\n",
    "    req = driver.page_source\n",
    "    soup = bs(req,'lxml')\n",
    "    \n",
    "    name = driver.find_element_by_css_selector('div.title-block > div > h1').text # 제목\n",
    "    openShow = driver.find_element_by_css_selector('div.title-block > div > span').text #개봉년도\n",
    "    # 특정 작품만 못가져옴\n",
    "    # 왜인지는 모름\n",
    "    try : \n",
    "        jangre = driver.find_element_by_css_selector('#base > div.jw-info-box > div > div.jw-info-box__container-content > div:nth-child(2) > div:nth-child(5) > div:nth-child(1) > div.title-info.visible-xs.visible-sm > div:nth-child(3) > div.detail-infos__value') # 장르\n",
    "        jangre_list.append(jangre)\n",
    "    except NoSuchElementException:\n",
    "        jangre_list.append(\"장르왜못가져오냐\")\n",
    "    try : \n",
    "        movieTime = driver.find_element_by_css_selector('#base > div.jw-info-box > div > div.jw-info-box__container-content > div:nth-child(2) > div:nth-child(6) > div:nth-child(1) > div.title-info.visible-xs.visible-sm > div:nth-child(4) > div.detail-infos__value').text # 상영시간\n",
    "        movieTime_list.append(movieTime)\n",
    "    except NoSuchElementException:\n",
    "        movieTime_list.append(\"상영시간왜못가져오냐\")\n",
    "    try:\n",
    "        story = driver.find_element_by_css_selector('div:nth-child(4) > p > span').text # 영화소개\n",
    "        story_list.append(story)\n",
    "    except NoSuchElementException:\n",
    "        story_list.append(\"스토리왜못가져오냐\")\n",
    "        \n",
    "    link = soup.find_all('div','presentation-type price-comparison__grid__row__element__icon') #스트리밍사이트링크\n",
    "    rent_title = soup.find_all('div','price-comparison__grid__row__title') # 대여, 구매, 스트리밍\n",
    "    rent_L = soup.find_all('picture','provider-icon') # 사이트\n",
    "    img = soup.find('picture','picture-comp title-poster__image').find('img')['data-src'] #이미지\n",
    "\n",
    "    # 스트리밍 플랫폼\n",
    "    for j in range(len(rent_L)):\n",
    "        streaming_li=rent_L[j].find('img')['title']\n",
    "        line.append(streaming_li)\n",
    "    result = set(line) # set(list) 중복제거\n",
    "    \n",
    "    # 구매, 대여, 정액제\n",
    "    for j in range(len(rent_title)):\n",
    "        line2.append(rent_title[j].text)\n",
    "    result3 = set(line2) # set(list) 중복제거\n",
    "    #링크\n",
    "    for j in range(len(link)):\n",
    "        link_li=link[j].find('a')['href']\n",
    "        line3.append(link_li)\n",
    "    result2 = set(line3)\n",
    "\n",
    "    name_list.append(name)\n",
    "    openShow_list.append(openShow)\n",
    "    streaming_list.append(result)\n",
    "    rent_title_list.append(result3)\n",
    "    link_list.append(result2)\n",
    "    img_list.append(img)\n",
    "    urlretrieve(img,\"C:/Users/smhrd/Desktop/이미지/\"+str(i)+\".jpg\")\n",
    "    time.sleep(5)\n",
    "    \n",
    "    driver.back()\n",
    "    time.sleep(5)"
   ]
  },
  {
   "cell_type": "code",
   "execution_count": null,
   "id": "9a942540",
   "metadata": {
    "scrolled": true
   },
   "outputs": [],
   "source": []
  },
  {
   "cell_type": "code",
   "execution_count": 407,
   "id": "36cbd44b",
   "metadata": {},
   "outputs": [],
   "source": [
    "dic3 = {'영화제목':name_list,'개봉일자':openShow_list,'장르':jangre_list,'상영시간':movieTime_list,'제공사이트링크':link_list,'제공사이트':streaming_list,'제공종류':rent_title_list,'이미지링크':img_list}"
   ]
  },
  {
   "cell_type": "code",
   "execution_count": 408,
   "id": "d69a9617",
   "metadata": {},
   "outputs": [
    {
     "data": {
      "text/html": [
       "<div>\n",
       "<style scoped>\n",
       "    .dataframe tbody tr th:only-of-type {\n",
       "        vertical-align: middle;\n",
       "    }\n",
       "\n",
       "    .dataframe tbody tr th {\n",
       "        vertical-align: top;\n",
       "    }\n",
       "\n",
       "    .dataframe thead th {\n",
       "        text-align: right;\n",
       "    }\n",
       "</style>\n",
       "<table border=\"1\" class=\"dataframe\">\n",
       "  <thead>\n",
       "    <tr style=\"text-align: right;\">\n",
       "      <th></th>\n",
       "      <th>영화제목</th>\n",
       "      <th>개봉일자</th>\n",
       "      <th>장르</th>\n",
       "      <th>상영시간</th>\n",
       "      <th>제공사이트링크</th>\n",
       "      <th>제공사이트</th>\n",
       "      <th>제공종류</th>\n",
       "      <th>이미지링크</th>\n",
       "    </tr>\n",
       "  </thead>\n",
       "  <tbody>\n",
       "    <tr>\n",
       "      <th>0</th>\n",
       "      <td>모가디슈</td>\n",
       "      <td>(2021)</td>\n",
       "      <td>액션 , 스릴러 , 드라마</td>\n",
       "      <td>2시간 1분</td>\n",
       "      <td>{https://click.justwatch.com/a?r=https%3A%2F%2...</td>\n",
       "      <td>{Google Play Movies, Naver Store, wavve}</td>\n",
       "      <td>{ 구매 ,  대여 }</td>\n",
       "      <td>https://images.justwatch.com/poster/247509899/...</td>\n",
       "    </tr>\n",
       "  </tbody>\n",
       "</table>\n",
       "</div>"
      ],
      "text/plain": [
       "   영화제목    개봉일자              장르    상영시간  \\\n",
       "0  모가디슈  (2021)  액션 , 스릴러 , 드라마  2시간 1분   \n",
       "\n",
       "                                             제공사이트링크  \\\n",
       "0  {https://click.justwatch.com/a?r=https%3A%2F%2...   \n",
       "\n",
       "                                      제공사이트          제공종류  \\\n",
       "0  {Google Play Movies, Naver Store, wavve}  { 구매 ,  대여 }   \n",
       "\n",
       "                                               이미지링크  \n",
       "0  https://images.justwatch.com/poster/247509899/...  "
      ]
     },
     "execution_count": 408,
     "metadata": {},
     "output_type": "execute_result"
    }
   ],
   "source": [
    "pd.DataFrame(dic3)"
   ]
  },
  {
   "cell_type": "code",
   "execution_count": null,
   "id": "b50a8de7",
   "metadata": {},
   "outputs": [],
   "source": []
  }
 ],
 "metadata": {
  "kernelspec": {
   "display_name": "Python 3",
   "language": "python",
   "name": "python3"
  },
  "language_info": {
   "codemirror_mode": {
    "name": "ipython",
    "version": 3
   },
   "file_extension": ".py",
   "mimetype": "text/x-python",
   "name": "python",
   "nbconvert_exporter": "python",
   "pygments_lexer": "ipython3",
   "version": "3.8.8"
  }
 },
 "nbformat": 4,
 "nbformat_minor": 5
}
